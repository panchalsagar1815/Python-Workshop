{
 "cells": [
  {
   "cell_type": "code",
   "execution_count": 1,
   "metadata": {},
   "outputs": [],
   "source": [
    "import pandas as pd\n",
    "from textblob import TextBlob"
   ]
  },
  {
   "cell_type": "code",
   "execution_count": 2,
   "metadata": {},
   "outputs": [
    {
     "data": {
      "text/html": [
       "<div>\n",
       "<style scoped>\n",
       "    .dataframe tbody tr th:only-of-type {\n",
       "        vertical-align: middle;\n",
       "    }\n",
       "\n",
       "    .dataframe tbody tr th {\n",
       "        vertical-align: top;\n",
       "    }\n",
       "\n",
       "    .dataframe thead th {\n",
       "        text-align: right;\n",
       "    }\n",
       "</style>\n",
       "<table border=\"1\" class=\"dataframe\">\n",
       "  <thead>\n",
       "    <tr style=\"text-align: right;\">\n",
       "      <th></th>\n",
       "      <th>Hotel_name</th>\n",
       "      <th>Review_Title</th>\n",
       "      <th>Review_Text</th>\n",
       "      <th>Sentiment</th>\n",
       "      <th>Rating_Percentage</th>\n",
       "      <th>Unnamed: 5</th>\n",
       "      <th>Unnamed: 6</th>\n",
       "      <th>Unnamed: 7</th>\n",
       "      <th>Unnamed: 8</th>\n",
       "    </tr>\n",
       "  </thead>\n",
       "  <tbody>\n",
       "    <tr>\n",
       "      <td>0</td>\n",
       "      <td>Accord Metropolitan</td>\n",
       "      <td>Excellent comfortableness during stay</td>\n",
       "      <td>Its really nice place to stay especially for b...</td>\n",
       "      <td>3</td>\n",
       "      <td>100</td>\n",
       "      <td>NaN</td>\n",
       "      <td>NaN</td>\n",
       "      <td>NaN</td>\n",
       "      <td>NaN</td>\n",
       "    </tr>\n",
       "    <tr>\n",
       "      <td>1</td>\n",
       "      <td>Accord Metropolitan</td>\n",
       "      <td>Not too comfortable</td>\n",
       "      <td>It seems that hotel does not check the basic a...</td>\n",
       "      <td>1</td>\n",
       "      <td>20</td>\n",
       "      <td>NaN</td>\n",
       "      <td>NaN</td>\n",
       "      <td>NaN</td>\n",
       "      <td>NaN</td>\n",
       "    </tr>\n",
       "    <tr>\n",
       "      <td>2</td>\n",
       "      <td>Accord Metropolitan</td>\n",
       "      <td>NaN</td>\n",
       "      <td>Worst hotel I have ever encountered. I will ne...</td>\n",
       "      <td>1</td>\n",
       "      <td>20</td>\n",
       "      <td>NaN</td>\n",
       "      <td>NaN</td>\n",
       "      <td>NaN</td>\n",
       "      <td>NaN</td>\n",
       "    </tr>\n",
       "    <tr>\n",
       "      <td>3</td>\n",
       "      <td>Accord Metropolitan</td>\n",
       "      <td>Best hotel</td>\n",
       "      <td>Had a good time in this hotel and the staff Ku...</td>\n",
       "      <td>3</td>\n",
       "      <td>100</td>\n",
       "      <td>NaN</td>\n",
       "      <td>NaN</td>\n",
       "      <td>NaN</td>\n",
       "      <td>NaN</td>\n",
       "    </tr>\n",
       "    <tr>\n",
       "      <td>4</td>\n",
       "      <td>Accord Metropolitan</td>\n",
       "      <td>NaN</td>\n",
       "      <td>good hotel and staff Veg food good non veg bre...</td>\n",
       "      <td>3</td>\n",
       "      <td>100</td>\n",
       "      <td>NaN</td>\n",
       "      <td>NaN</td>\n",
       "      <td>NaN</td>\n",
       "      <td>NaN</td>\n",
       "    </tr>\n",
       "  </tbody>\n",
       "</table>\n",
       "</div>"
      ],
      "text/plain": [
       "            Hotel_name                           Review_Title  \\\n",
       "0  Accord Metropolitan  Excellent comfortableness during stay   \n",
       "1  Accord Metropolitan                    Not too comfortable   \n",
       "2  Accord Metropolitan                                    NaN   \n",
       "3  Accord Metropolitan                             Best hotel   \n",
       "4  Accord Metropolitan                                    NaN   \n",
       "\n",
       "                                         Review_Text Sentiment  \\\n",
       "0  Its really nice place to stay especially for b...         3   \n",
       "1  It seems that hotel does not check the basic a...         1   \n",
       "2  Worst hotel I have ever encountered. I will ne...         1   \n",
       "3  Had a good time in this hotel and the staff Ku...         3   \n",
       "4  good hotel and staff Veg food good non veg bre...         3   \n",
       "\n",
       "  Rating_Percentage  Unnamed: 5 Unnamed: 6  Unnamed: 7  Unnamed: 8  \n",
       "0               100         NaN        NaN         NaN         NaN  \n",
       "1                20         NaN        NaN         NaN         NaN  \n",
       "2                20         NaN        NaN         NaN         NaN  \n",
       "3               100         NaN        NaN         NaN         NaN  \n",
       "4               100         NaN        NaN         NaN         NaN  "
      ]
     },
     "execution_count": 2,
     "metadata": {},
     "output_type": "execute_result"
    }
   ],
   "source": [
    "data = pd.read_csv('C:/Users/Lenovo/Desktop/Datasets/chennai_reviews.csv')\n",
    "data.head()"
   ]
  },
  {
   "cell_type": "code",
   "execution_count": 3,
   "metadata": {},
   "outputs": [
    {
     "data": {
      "text/plain": [
       "Hotel_name            object\n",
       "Review_Title          object\n",
       "Review_Text           object\n",
       "Sentiment             object\n",
       "Rating_Percentage     object\n",
       "Unnamed: 5           float64\n",
       "Unnamed: 6            object\n",
       "Unnamed: 7           float64\n",
       "Unnamed: 8           float64\n",
       "dtype: object"
      ]
     },
     "execution_count": 3,
     "metadata": {},
     "output_type": "execute_result"
    }
   ],
   "source": [
    "data.dtypes"
   ]
  },
  {
   "cell_type": "code",
   "execution_count": 4,
   "metadata": {},
   "outputs": [],
   "source": [
    "data.dropna(subset = [\"Review_Text\"], inplace= True)"
   ]
  },
  {
   "cell_type": "code",
   "execution_count": 5,
   "metadata": {},
   "outputs": [],
   "source": [
    "data = data[['Hotel_name','Review_Text','Sentiment']]"
   ]
  },
  {
   "cell_type": "code",
   "execution_count": 6,
   "metadata": {},
   "outputs": [
    {
     "data": {
      "text/html": [
       "<div>\n",
       "<style scoped>\n",
       "    .dataframe tbody tr th:only-of-type {\n",
       "        vertical-align: middle;\n",
       "    }\n",
       "\n",
       "    .dataframe tbody tr th {\n",
       "        vertical-align: top;\n",
       "    }\n",
       "\n",
       "    .dataframe thead th {\n",
       "        text-align: right;\n",
       "    }\n",
       "</style>\n",
       "<table border=\"1\" class=\"dataframe\">\n",
       "  <thead>\n",
       "    <tr style=\"text-align: right;\">\n",
       "      <th></th>\n",
       "      <th>Hotel_name</th>\n",
       "      <th>Review_Text</th>\n",
       "      <th>Sentiment</th>\n",
       "    </tr>\n",
       "  </thead>\n",
       "  <tbody>\n",
       "    <tr>\n",
       "      <td>0</td>\n",
       "      <td>Accord Metropolitan</td>\n",
       "      <td>Its really nice place to stay especially for b...</td>\n",
       "      <td>3</td>\n",
       "    </tr>\n",
       "    <tr>\n",
       "      <td>1</td>\n",
       "      <td>Accord Metropolitan</td>\n",
       "      <td>It seems that hotel does not check the basic a...</td>\n",
       "      <td>1</td>\n",
       "    </tr>\n",
       "    <tr>\n",
       "      <td>2</td>\n",
       "      <td>Accord Metropolitan</td>\n",
       "      <td>Worst hotel I have ever encountered. I will ne...</td>\n",
       "      <td>1</td>\n",
       "    </tr>\n",
       "    <tr>\n",
       "      <td>3</td>\n",
       "      <td>Accord Metropolitan</td>\n",
       "      <td>Had a good time in this hotel and the staff Ku...</td>\n",
       "      <td>3</td>\n",
       "    </tr>\n",
       "    <tr>\n",
       "      <td>4</td>\n",
       "      <td>Accord Metropolitan</td>\n",
       "      <td>good hotel and staff Veg food good non veg bre...</td>\n",
       "      <td>3</td>\n",
       "    </tr>\n",
       "  </tbody>\n",
       "</table>\n",
       "</div>"
      ],
      "text/plain": [
       "            Hotel_name                                        Review_Text  \\\n",
       "0  Accord Metropolitan  Its really nice place to stay especially for b...   \n",
       "1  Accord Metropolitan  It seems that hotel does not check the basic a...   \n",
       "2  Accord Metropolitan  Worst hotel I have ever encountered. I will ne...   \n",
       "3  Accord Metropolitan  Had a good time in this hotel and the staff Ku...   \n",
       "4  Accord Metropolitan  good hotel and staff Veg food good non veg bre...   \n",
       "\n",
       "  Sentiment  \n",
       "0         3  \n",
       "1         1  \n",
       "2         1  \n",
       "3         3  \n",
       "4         3  "
      ]
     },
     "execution_count": 6,
     "metadata": {},
     "output_type": "execute_result"
    }
   ],
   "source": [
    "data.head()"
   ]
  },
  {
   "cell_type": "code",
   "execution_count": 7,
   "metadata": {},
   "outputs": [
    {
     "data": {
      "text/plain": [
       "Hotel_name     0\n",
       "Review_Text    0\n",
       "Sentiment      1\n",
       "dtype: int64"
      ]
     },
     "execution_count": 7,
     "metadata": {},
     "output_type": "execute_result"
    }
   ],
   "source": [
    "data.isnull().sum()"
   ]
  },
  {
   "cell_type": "code",
   "execution_count": 8,
   "metadata": {},
   "outputs": [
    {
     "data": {
      "text/plain": [
       "Hotel_name     object\n",
       "Review_Text    object\n",
       "Sentiment      object\n",
       "dtype: object"
      ]
     },
     "execution_count": 8,
     "metadata": {},
     "output_type": "execute_result"
    }
   ],
   "source": [
    "data.dtypes"
   ]
  },
  {
   "cell_type": "code",
   "execution_count": 9,
   "metadata": {},
   "outputs": [],
   "source": [
    "from nltk.corpus import stopwords\n",
    "from nltk import word_tokenize\n",
    "from nltk.stem.wordnet import WordNetLemmatizer"
   ]
  },
  {
   "cell_type": "code",
   "execution_count": 10,
   "metadata": {},
   "outputs": [],
   "source": [
    "def identify_tokens(row):\n",
    "    tokens = word_tokenize(row)\n",
    "    # taken only words (not punctuation)\n",
    "    token_words = [w for w in tokens if w.isalpha()]\n",
    "    return token_words\n",
    "\n",
    "data['toke_text'] = data['Review_Text'].apply(identify_tokens)"
   ]
  },
  {
   "cell_type": "code",
   "execution_count": 11,
   "metadata": {},
   "outputs": [
    {
     "data": {
      "text/html": [
       "<div>\n",
       "<style scoped>\n",
       "    .dataframe tbody tr th:only-of-type {\n",
       "        vertical-align: middle;\n",
       "    }\n",
       "\n",
       "    .dataframe tbody tr th {\n",
       "        vertical-align: top;\n",
       "    }\n",
       "\n",
       "    .dataframe thead th {\n",
       "        text-align: right;\n",
       "    }\n",
       "</style>\n",
       "<table border=\"1\" class=\"dataframe\">\n",
       "  <thead>\n",
       "    <tr style=\"text-align: right;\">\n",
       "      <th></th>\n",
       "      <th>Hotel_name</th>\n",
       "      <th>Review_Text</th>\n",
       "      <th>Sentiment</th>\n",
       "      <th>toke_text</th>\n",
       "    </tr>\n",
       "  </thead>\n",
       "  <tbody>\n",
       "    <tr>\n",
       "      <td>0</td>\n",
       "      <td>Accord Metropolitan</td>\n",
       "      <td>Its really nice place to stay especially for b...</td>\n",
       "      <td>3</td>\n",
       "      <td>[Its, really, nice, place, to, stay, especiall...</td>\n",
       "    </tr>\n",
       "    <tr>\n",
       "      <td>1</td>\n",
       "      <td>Accord Metropolitan</td>\n",
       "      <td>It seems that hotel does not check the basic a...</td>\n",
       "      <td>1</td>\n",
       "      <td>[It, seems, that, hotel, does, not, check, the...</td>\n",
       "    </tr>\n",
       "    <tr>\n",
       "      <td>2</td>\n",
       "      <td>Accord Metropolitan</td>\n",
       "      <td>Worst hotel I have ever encountered. I will ne...</td>\n",
       "      <td>1</td>\n",
       "      <td>[Worst, hotel, I, have, ever, encountered, I, ...</td>\n",
       "    </tr>\n",
       "    <tr>\n",
       "      <td>3</td>\n",
       "      <td>Accord Metropolitan</td>\n",
       "      <td>Had a good time in this hotel and the staff Ku...</td>\n",
       "      <td>3</td>\n",
       "      <td>[Had, a, good, time, in, this, hotel, and, the...</td>\n",
       "    </tr>\n",
       "    <tr>\n",
       "      <td>4</td>\n",
       "      <td>Accord Metropolitan</td>\n",
       "      <td>good hotel and staff Veg food good non veg bre...</td>\n",
       "      <td>3</td>\n",
       "      <td>[good, hotel, and, staff, Veg, food, good, non...</td>\n",
       "    </tr>\n",
       "  </tbody>\n",
       "</table>\n",
       "</div>"
      ],
      "text/plain": [
       "            Hotel_name                                        Review_Text  \\\n",
       "0  Accord Metropolitan  Its really nice place to stay especially for b...   \n",
       "1  Accord Metropolitan  It seems that hotel does not check the basic a...   \n",
       "2  Accord Metropolitan  Worst hotel I have ever encountered. I will ne...   \n",
       "3  Accord Metropolitan  Had a good time in this hotel and the staff Ku...   \n",
       "4  Accord Metropolitan  good hotel and staff Veg food good non veg bre...   \n",
       "\n",
       "  Sentiment                                          toke_text  \n",
       "0         3  [Its, really, nice, place, to, stay, especiall...  \n",
       "1         1  [It, seems, that, hotel, does, not, check, the...  \n",
       "2         1  [Worst, hotel, I, have, ever, encountered, I, ...  \n",
       "3         3  [Had, a, good, time, in, this, hotel, and, the...  \n",
       "4         3  [good, hotel, and, staff, Veg, food, good, non...  "
      ]
     },
     "execution_count": 11,
     "metadata": {},
     "output_type": "execute_result"
    }
   ],
   "source": [
    "data.head()"
   ]
  },
  {
   "cell_type": "code",
   "execution_count": 12,
   "metadata": {},
   "outputs": [],
   "source": [
    "le = WordNetLemmatizer()\n",
    "def lem_list(row):\n",
    "    lematized_list = [le.lemmatize(word) for word in row]\n",
    "    return (lematized_list)\n",
    "\n",
    "data['lematized_text'] = data['toke_text'].apply(lem_list)"
   ]
  },
  {
   "cell_type": "code",
   "execution_count": 13,
   "metadata": {},
   "outputs": [],
   "source": [
    "stops = set(stopwords.words(\"english\"))                  \n",
    "\n",
    "def remove_stops(row):\n",
    "    meaningful_words = [w for w in row if not w in stops]\n",
    "    return (meaningful_words)\n",
    "\n",
    "data['stop_text'] = data['lematized_text'].apply(remove_stops)"
   ]
  },
  {
   "cell_type": "code",
   "execution_count": 14,
   "metadata": {},
   "outputs": [],
   "source": [
    "def rejoin_words(row):\n",
    "    joined_words = ( \" \".join(row))\n",
    "    return joined_words\n",
    "\n",
    "data['new_text'] = data['stop_text'].apply(rejoin_words)"
   ]
  },
  {
   "cell_type": "code",
   "execution_count": 15,
   "metadata": {},
   "outputs": [
    {
     "data": {
      "text/html": [
       "<div>\n",
       "<style scoped>\n",
       "    .dataframe tbody tr th:only-of-type {\n",
       "        vertical-align: middle;\n",
       "    }\n",
       "\n",
       "    .dataframe tbody tr th {\n",
       "        vertical-align: top;\n",
       "    }\n",
       "\n",
       "    .dataframe thead th {\n",
       "        text-align: right;\n",
       "    }\n",
       "</style>\n",
       "<table border=\"1\" class=\"dataframe\">\n",
       "  <thead>\n",
       "    <tr style=\"text-align: right;\">\n",
       "      <th></th>\n",
       "      <th>Hotel_name</th>\n",
       "      <th>Review_Text</th>\n",
       "      <th>Sentiment</th>\n",
       "      <th>toke_text</th>\n",
       "      <th>lematized_text</th>\n",
       "      <th>stop_text</th>\n",
       "      <th>new_text</th>\n",
       "      <th>subjectivity</th>\n",
       "      <th>polarity</th>\n",
       "    </tr>\n",
       "  </thead>\n",
       "  <tbody>\n",
       "    <tr>\n",
       "      <td>0</td>\n",
       "      <td>Accord Metropolitan</td>\n",
       "      <td>Its really nice place to stay especially for b...</td>\n",
       "      <td>3</td>\n",
       "      <td>[Its, really, nice, place, to, stay, especiall...</td>\n",
       "      <td>[Its, really, nice, place, to, stay, especiall...</td>\n",
       "      <td>[Its, really, nice, place, stay, especially, b...</td>\n",
       "      <td>Its really nice place stay especially business...</td>\n",
       "      <td>1.000000</td>\n",
       "      <td>0.300000</td>\n",
       "    </tr>\n",
       "    <tr>\n",
       "      <td>1</td>\n",
       "      <td>Accord Metropolitan</td>\n",
       "      <td>It seems that hotel does not check the basic a...</td>\n",
       "      <td>1</td>\n",
       "      <td>[It, seems, that, hotel, does, not, check, the...</td>\n",
       "      <td>[It, seems, that, hotel, doe, not, check, the,...</td>\n",
       "      <td>[It, seems, hotel, doe, check, basic, amenity,...</td>\n",
       "      <td>It seems hotel doe check basic amenity room ha...</td>\n",
       "      <td>0.125000</td>\n",
       "      <td>0.000000</td>\n",
       "    </tr>\n",
       "    <tr>\n",
       "      <td>2</td>\n",
       "      <td>Accord Metropolitan</td>\n",
       "      <td>Worst hotel I have ever encountered. I will ne...</td>\n",
       "      <td>1</td>\n",
       "      <td>[Worst, hotel, I, have, ever, encountered, I, ...</td>\n",
       "      <td>[Worst, hotel, I, have, ever, encountered, I, ...</td>\n",
       "      <td>[Worst, hotel, I, ever, encountered, I, never,...</td>\n",
       "      <td>Worst hotel I ever encountered I never think s...</td>\n",
       "      <td>0.562500</td>\n",
       "      <td>-0.500000</td>\n",
       "    </tr>\n",
       "    <tr>\n",
       "      <td>3</td>\n",
       "      <td>Accord Metropolitan</td>\n",
       "      <td>Had a good time in this hotel and the staff Ku...</td>\n",
       "      <td>3</td>\n",
       "      <td>[Had, a, good, time, in, this, hotel, and, the...</td>\n",
       "      <td>[Had, a, good, time, in, this, hotel, and, the...</td>\n",
       "      <td>[Had, good, time, hotel, staff, Kumar, aishwar...</td>\n",
       "      <td>Had good time hotel staff Kumar aishwarya hous...</td>\n",
       "      <td>0.724074</td>\n",
       "      <td>0.538889</td>\n",
       "    </tr>\n",
       "    <tr>\n",
       "      <td>4</td>\n",
       "      <td>Accord Metropolitan</td>\n",
       "      <td>good hotel and staff Veg food good non veg bre...</td>\n",
       "      <td>3</td>\n",
       "      <td>[good, hotel, and, staff, Veg, food, good, non...</td>\n",
       "      <td>[good, hotel, and, staff, Veg, food, good, non...</td>\n",
       "      <td>[good, hotel, staff, Veg, food, good, non, veg...</td>\n",
       "      <td>good hotel staff Veg food good non veg breakfa...</td>\n",
       "      <td>0.600000</td>\n",
       "      <td>0.700000</td>\n",
       "    </tr>\n",
       "  </tbody>\n",
       "</table>\n",
       "</div>"
      ],
      "text/plain": [
       "            Hotel_name                                        Review_Text  \\\n",
       "0  Accord Metropolitan  Its really nice place to stay especially for b...   \n",
       "1  Accord Metropolitan  It seems that hotel does not check the basic a...   \n",
       "2  Accord Metropolitan  Worst hotel I have ever encountered. I will ne...   \n",
       "3  Accord Metropolitan  Had a good time in this hotel and the staff Ku...   \n",
       "4  Accord Metropolitan  good hotel and staff Veg food good non veg bre...   \n",
       "\n",
       "  Sentiment                                          toke_text  \\\n",
       "0         3  [Its, really, nice, place, to, stay, especiall...   \n",
       "1         1  [It, seems, that, hotel, does, not, check, the...   \n",
       "2         1  [Worst, hotel, I, have, ever, encountered, I, ...   \n",
       "3         3  [Had, a, good, time, in, this, hotel, and, the...   \n",
       "4         3  [good, hotel, and, staff, Veg, food, good, non...   \n",
       "\n",
       "                                      lematized_text  \\\n",
       "0  [Its, really, nice, place, to, stay, especiall...   \n",
       "1  [It, seems, that, hotel, doe, not, check, the,...   \n",
       "2  [Worst, hotel, I, have, ever, encountered, I, ...   \n",
       "3  [Had, a, good, time, in, this, hotel, and, the...   \n",
       "4  [good, hotel, and, staff, Veg, food, good, non...   \n",
       "\n",
       "                                           stop_text  \\\n",
       "0  [Its, really, nice, place, stay, especially, b...   \n",
       "1  [It, seems, hotel, doe, check, basic, amenity,...   \n",
       "2  [Worst, hotel, I, ever, encountered, I, never,...   \n",
       "3  [Had, good, time, hotel, staff, Kumar, aishwar...   \n",
       "4  [good, hotel, staff, Veg, food, good, non, veg...   \n",
       "\n",
       "                                            new_text  subjectivity  polarity  \n",
       "0  Its really nice place stay especially business...      1.000000  0.300000  \n",
       "1  It seems hotel doe check basic amenity room ha...      0.125000  0.000000  \n",
       "2  Worst hotel I ever encountered I never think s...      0.562500 -0.500000  \n",
       "3  Had good time hotel staff Kumar aishwarya hous...      0.724074  0.538889  \n",
       "4  good hotel staff Veg food good non veg breakfa...      0.600000  0.700000  "
      ]
     },
     "execution_count": 15,
     "metadata": {},
     "output_type": "execute_result"
    }
   ],
   "source": [
    "# create a function to ge subjectivity\n",
    "def getSubjectivity(text):\n",
    "    return TextBlob(text).sentiment.subjectivity\n",
    "\n",
    "# Create a function to get the polarity\n",
    "def getPolarity(text):\n",
    "    return  TextBlob(text).sentiment.polarity\n",
    "\n",
    "# Create two new columns 'Subjectivity' & 'Polarity'\n",
    "data['subjectivity'] = data['new_text'].apply(getSubjectivity)\n",
    "data['polarity'] = data['new_text'].apply(getPolarity)\n",
    "\n",
    "# Show the new dataframe with columns 'Subjectivity' & 'Polarity'\n",
    "data.head()"
   ]
  },
  {
   "cell_type": "code",
   "execution_count": 16,
   "metadata": {},
   "outputs": [
    {
     "data": {
      "text/html": [
       "<div>\n",
       "<style scoped>\n",
       "    .dataframe tbody tr th:only-of-type {\n",
       "        vertical-align: middle;\n",
       "    }\n",
       "\n",
       "    .dataframe tbody tr th {\n",
       "        vertical-align: top;\n",
       "    }\n",
       "\n",
       "    .dataframe thead th {\n",
       "        text-align: right;\n",
       "    }\n",
       "</style>\n",
       "<table border=\"1\" class=\"dataframe\">\n",
       "  <thead>\n",
       "    <tr style=\"text-align: right;\">\n",
       "      <th></th>\n",
       "      <th>Hotel_name</th>\n",
       "      <th>Review_Text</th>\n",
       "      <th>Sentiment</th>\n",
       "      <th>toke_text</th>\n",
       "      <th>lematized_text</th>\n",
       "      <th>stop_text</th>\n",
       "      <th>new_text</th>\n",
       "      <th>subjectivity</th>\n",
       "      <th>polarity</th>\n",
       "      <th>analysis</th>\n",
       "    </tr>\n",
       "  </thead>\n",
       "  <tbody>\n",
       "    <tr>\n",
       "      <td>0</td>\n",
       "      <td>Accord Metropolitan</td>\n",
       "      <td>Its really nice place to stay especially for b...</td>\n",
       "      <td>3</td>\n",
       "      <td>[Its, really, nice, place, to, stay, especiall...</td>\n",
       "      <td>[Its, really, nice, place, to, stay, especiall...</td>\n",
       "      <td>[Its, really, nice, place, stay, especially, b...</td>\n",
       "      <td>Its really nice place stay especially business...</td>\n",
       "      <td>1.000000</td>\n",
       "      <td>0.300000</td>\n",
       "      <td>Positive</td>\n",
       "    </tr>\n",
       "    <tr>\n",
       "      <td>1</td>\n",
       "      <td>Accord Metropolitan</td>\n",
       "      <td>It seems that hotel does not check the basic a...</td>\n",
       "      <td>1</td>\n",
       "      <td>[It, seems, that, hotel, does, not, check, the...</td>\n",
       "      <td>[It, seems, that, hotel, doe, not, check, the,...</td>\n",
       "      <td>[It, seems, hotel, doe, check, basic, amenity,...</td>\n",
       "      <td>It seems hotel doe check basic amenity room ha...</td>\n",
       "      <td>0.125000</td>\n",
       "      <td>0.000000</td>\n",
       "      <td>Neutral</td>\n",
       "    </tr>\n",
       "    <tr>\n",
       "      <td>2</td>\n",
       "      <td>Accord Metropolitan</td>\n",
       "      <td>Worst hotel I have ever encountered. I will ne...</td>\n",
       "      <td>1</td>\n",
       "      <td>[Worst, hotel, I, have, ever, encountered, I, ...</td>\n",
       "      <td>[Worst, hotel, I, have, ever, encountered, I, ...</td>\n",
       "      <td>[Worst, hotel, I, ever, encountered, I, never,...</td>\n",
       "      <td>Worst hotel I ever encountered I never think s...</td>\n",
       "      <td>0.562500</td>\n",
       "      <td>-0.500000</td>\n",
       "      <td>Negative</td>\n",
       "    </tr>\n",
       "    <tr>\n",
       "      <td>3</td>\n",
       "      <td>Accord Metropolitan</td>\n",
       "      <td>Had a good time in this hotel and the staff Ku...</td>\n",
       "      <td>3</td>\n",
       "      <td>[Had, a, good, time, in, this, hotel, and, the...</td>\n",
       "      <td>[Had, a, good, time, in, this, hotel, and, the...</td>\n",
       "      <td>[Had, good, time, hotel, staff, Kumar, aishwar...</td>\n",
       "      <td>Had good time hotel staff Kumar aishwarya hous...</td>\n",
       "      <td>0.724074</td>\n",
       "      <td>0.538889</td>\n",
       "      <td>Positive</td>\n",
       "    </tr>\n",
       "    <tr>\n",
       "      <td>4</td>\n",
       "      <td>Accord Metropolitan</td>\n",
       "      <td>good hotel and staff Veg food good non veg bre...</td>\n",
       "      <td>3</td>\n",
       "      <td>[good, hotel, and, staff, Veg, food, good, non...</td>\n",
       "      <td>[good, hotel, and, staff, Veg, food, good, non...</td>\n",
       "      <td>[good, hotel, staff, Veg, food, good, non, veg...</td>\n",
       "      <td>good hotel staff Veg food good non veg breakfa...</td>\n",
       "      <td>0.600000</td>\n",
       "      <td>0.700000</td>\n",
       "      <td>Positive</td>\n",
       "    </tr>\n",
       "  </tbody>\n",
       "</table>\n",
       "</div>"
      ],
      "text/plain": [
       "            Hotel_name                                        Review_Text  \\\n",
       "0  Accord Metropolitan  Its really nice place to stay especially for b...   \n",
       "1  Accord Metropolitan  It seems that hotel does not check the basic a...   \n",
       "2  Accord Metropolitan  Worst hotel I have ever encountered. I will ne...   \n",
       "3  Accord Metropolitan  Had a good time in this hotel and the staff Ku...   \n",
       "4  Accord Metropolitan  good hotel and staff Veg food good non veg bre...   \n",
       "\n",
       "  Sentiment                                          toke_text  \\\n",
       "0         3  [Its, really, nice, place, to, stay, especiall...   \n",
       "1         1  [It, seems, that, hotel, does, not, check, the...   \n",
       "2         1  [Worst, hotel, I, have, ever, encountered, I, ...   \n",
       "3         3  [Had, a, good, time, in, this, hotel, and, the...   \n",
       "4         3  [good, hotel, and, staff, Veg, food, good, non...   \n",
       "\n",
       "                                      lematized_text  \\\n",
       "0  [Its, really, nice, place, to, stay, especiall...   \n",
       "1  [It, seems, that, hotel, doe, not, check, the,...   \n",
       "2  [Worst, hotel, I, have, ever, encountered, I, ...   \n",
       "3  [Had, a, good, time, in, this, hotel, and, the...   \n",
       "4  [good, hotel, and, staff, Veg, food, good, non...   \n",
       "\n",
       "                                           stop_text  \\\n",
       "0  [Its, really, nice, place, stay, especially, b...   \n",
       "1  [It, seems, hotel, doe, check, basic, amenity,...   \n",
       "2  [Worst, hotel, I, ever, encountered, I, never,...   \n",
       "3  [Had, good, time, hotel, staff, Kumar, aishwar...   \n",
       "4  [good, hotel, staff, Veg, food, good, non, veg...   \n",
       "\n",
       "                                            new_text  subjectivity  polarity  \\\n",
       "0  Its really nice place stay especially business...      1.000000  0.300000   \n",
       "1  It seems hotel doe check basic amenity room ha...      0.125000  0.000000   \n",
       "2  Worst hotel I ever encountered I never think s...      0.562500 -0.500000   \n",
       "3  Had good time hotel staff Kumar aishwarya hous...      0.724074  0.538889   \n",
       "4  good hotel staff Veg food good non veg breakfa...      0.600000  0.700000   \n",
       "\n",
       "   analysis  \n",
       "0  Positive  \n",
       "1   Neutral  \n",
       "2  Negative  \n",
       "3  Positive  \n",
       "4  Positive  "
      ]
     },
     "execution_count": 16,
     "metadata": {},
     "output_type": "execute_result"
    }
   ],
   "source": [
    "# Create a function to compute negative (-1), neutral (0) and positive (+1) analysis\n",
    "def getAnalysis(score):\n",
    "    if score < 0:\n",
    "        return 'Negative'\n",
    "    elif score == 0:\n",
    "        return 'Neutral'\n",
    "    else:\n",
    "        return 'Positive'\n",
    "\n",
    "\n",
    "data['analysis'] = data['polarity'].apply(getAnalysis)\n",
    "\n",
    "# Show the dataframe\n",
    "data.head()"
   ]
  },
  {
   "cell_type": "code",
   "execution_count": 17,
   "metadata": {},
   "outputs": [
    {
     "data": {
      "text/plain": [
       "array(['Positive', 'Neutral', 'Negative'], dtype=object)"
      ]
     },
     "execution_count": 17,
     "metadata": {},
     "output_type": "execute_result"
    }
   ],
   "source": [
    "data['analysis'].unique()"
   ]
  },
  {
   "cell_type": "code",
   "execution_count": 18,
   "metadata": {},
   "outputs": [
    {
     "data": {
      "text/html": [
       "<div>\n",
       "<style scoped>\n",
       "    .dataframe tbody tr th:only-of-type {\n",
       "        vertical-align: middle;\n",
       "    }\n",
       "\n",
       "    .dataframe tbody tr th {\n",
       "        vertical-align: top;\n",
       "    }\n",
       "\n",
       "    .dataframe thead th {\n",
       "        text-align: right;\n",
       "    }\n",
       "</style>\n",
       "<table border=\"1\" class=\"dataframe\">\n",
       "  <thead>\n",
       "    <tr style=\"text-align: right;\">\n",
       "      <th></th>\n",
       "      <th>Hotel_name</th>\n",
       "      <th>Review_Text</th>\n",
       "      <th>Sentiment</th>\n",
       "      <th>toke_text</th>\n",
       "      <th>lematized_text</th>\n",
       "      <th>stop_text</th>\n",
       "      <th>new_text</th>\n",
       "      <th>subjectivity</th>\n",
       "      <th>polarity</th>\n",
       "      <th>analysis</th>\n",
       "    </tr>\n",
       "  </thead>\n",
       "  <tbody>\n",
       "    <tr>\n",
       "      <td>0</td>\n",
       "      <td>Accord Metropolitan</td>\n",
       "      <td>Its really nice place to stay especially for b...</td>\n",
       "      <td>3</td>\n",
       "      <td>[Its, really, nice, place, to, stay, especiall...</td>\n",
       "      <td>[Its, really, nice, place, to, stay, especiall...</td>\n",
       "      <td>[Its, really, nice, place, stay, especially, b...</td>\n",
       "      <td>Its really nice place stay especially business...</td>\n",
       "      <td>1.000000</td>\n",
       "      <td>0.300000</td>\n",
       "      <td>Positive</td>\n",
       "    </tr>\n",
       "    <tr>\n",
       "      <td>1</td>\n",
       "      <td>Accord Metropolitan</td>\n",
       "      <td>It seems that hotel does not check the basic a...</td>\n",
       "      <td>1</td>\n",
       "      <td>[It, seems, that, hotel, does, not, check, the...</td>\n",
       "      <td>[It, seems, that, hotel, doe, not, check, the,...</td>\n",
       "      <td>[It, seems, hotel, doe, check, basic, amenity,...</td>\n",
       "      <td>It seems hotel doe check basic amenity room ha...</td>\n",
       "      <td>0.125000</td>\n",
       "      <td>0.000000</td>\n",
       "      <td>Neutral</td>\n",
       "    </tr>\n",
       "    <tr>\n",
       "      <td>2</td>\n",
       "      <td>Accord Metropolitan</td>\n",
       "      <td>Worst hotel I have ever encountered. I will ne...</td>\n",
       "      <td>1</td>\n",
       "      <td>[Worst, hotel, I, have, ever, encountered, I, ...</td>\n",
       "      <td>[Worst, hotel, I, have, ever, encountered, I, ...</td>\n",
       "      <td>[Worst, hotel, I, ever, encountered, I, never,...</td>\n",
       "      <td>Worst hotel I ever encountered I never think s...</td>\n",
       "      <td>0.562500</td>\n",
       "      <td>-0.500000</td>\n",
       "      <td>Negative</td>\n",
       "    </tr>\n",
       "    <tr>\n",
       "      <td>3</td>\n",
       "      <td>Accord Metropolitan</td>\n",
       "      <td>Had a good time in this hotel and the staff Ku...</td>\n",
       "      <td>3</td>\n",
       "      <td>[Had, a, good, time, in, this, hotel, and, the...</td>\n",
       "      <td>[Had, a, good, time, in, this, hotel, and, the...</td>\n",
       "      <td>[Had, good, time, hotel, staff, Kumar, aishwar...</td>\n",
       "      <td>Had good time hotel staff Kumar aishwarya hous...</td>\n",
       "      <td>0.724074</td>\n",
       "      <td>0.538889</td>\n",
       "      <td>Positive</td>\n",
       "    </tr>\n",
       "    <tr>\n",
       "      <td>4</td>\n",
       "      <td>Accord Metropolitan</td>\n",
       "      <td>good hotel and staff Veg food good non veg bre...</td>\n",
       "      <td>3</td>\n",
       "      <td>[good, hotel, and, staff, Veg, food, good, non...</td>\n",
       "      <td>[good, hotel, and, staff, Veg, food, good, non...</td>\n",
       "      <td>[good, hotel, staff, Veg, food, good, non, veg...</td>\n",
       "      <td>good hotel staff Veg food good non veg breakfa...</td>\n",
       "      <td>0.600000</td>\n",
       "      <td>0.700000</td>\n",
       "      <td>Positive</td>\n",
       "    </tr>\n",
       "    <tr>\n",
       "      <td>5</td>\n",
       "      <td>Accord Metropolitan</td>\n",
       "      <td>Great hotel. The staff if welcoming. Helpful. ...</td>\n",
       "      <td>3</td>\n",
       "      <td>[Great, hotel, The, staff, if, welcoming, Help...</td>\n",
       "      <td>[Great, hotel, The, staff, if, welcoming, Help...</td>\n",
       "      <td>[Great, hotel, The, staff, welcoming, Helpful,...</td>\n",
       "      <td>Great hotel The staff welcoming Helpful Always</td>\n",
       "      <td>0.750000</td>\n",
       "      <td>0.800000</td>\n",
       "      <td>Positive</td>\n",
       "    </tr>\n",
       "    <tr>\n",
       "      <td>6</td>\n",
       "      <td>Accord Metropolitan</td>\n",
       "      <td>The hotel is mostly clean, but bathrooms need ...</td>\n",
       "      <td>3</td>\n",
       "      <td>[The, hotel, is, mostly, clean, but, bathrooms...</td>\n",
       "      <td>[The, hotel, is, mostly, clean, but, bathroom,...</td>\n",
       "      <td>[The, hotel, mostly, clean, bathroom, need, ca...</td>\n",
       "      <td>The hotel mostly clean bathroom need care firs...</td>\n",
       "      <td>0.576190</td>\n",
       "      <td>0.373810</td>\n",
       "      <td>Positive</td>\n",
       "    </tr>\n",
       "    <tr>\n",
       "      <td>7</td>\n",
       "      <td>Accord Metropolitan</td>\n",
       "      <td>Awesome hotel with all needed amenities and lu...</td>\n",
       "      <td>3</td>\n",
       "      <td>[Awesome, hotel, with, all, needed, amenities,...</td>\n",
       "      <td>[Awesome, hotel, with, all, needed, amenity, a...</td>\n",
       "      <td>[Awesome, hotel, needed, amenity, luxury, frie...</td>\n",
       "      <td>Awesome hotel needed amenity luxury friendly s...</td>\n",
       "      <td>0.750000</td>\n",
       "      <td>0.725000</td>\n",
       "      <td>Positive</td>\n",
       "    </tr>\n",
       "    <tr>\n",
       "      <td>8</td>\n",
       "      <td>Accord Metropolitan</td>\n",
       "      <td>Very nice \\nComfortable</td>\n",
       "      <td>3</td>\n",
       "      <td>[Very, nice, Comfortable]</td>\n",
       "      <td>[Very, nice, Comfortable]</td>\n",
       "      <td>[Very, nice, Comfortable]</td>\n",
       "      <td>Very nice Comfortable</td>\n",
       "      <td>0.900000</td>\n",
       "      <td>0.590000</td>\n",
       "      <td>Positive</td>\n",
       "    </tr>\n",
       "    <tr>\n",
       "      <td>9</td>\n",
       "      <td>Accord Metropolitan</td>\n",
       "      <td>The staff of the hotel were polite.  The brick...</td>\n",
       "      <td>3</td>\n",
       "      <td>[The, staff, of, the, hotel, were, polite, The...</td>\n",
       "      <td>[The, staff, of, the, hotel, were, polite, The...</td>\n",
       "      <td>[The, staff, hotel, polite, The, brick, oven, ...</td>\n",
       "      <td>The staff hotel polite The brick oven chef ext...</td>\n",
       "      <td>0.775000</td>\n",
       "      <td>0.335417</td>\n",
       "      <td>Positive</td>\n",
       "    </tr>\n",
       "  </tbody>\n",
       "</table>\n",
       "</div>"
      ],
      "text/plain": [
       "            Hotel_name                                        Review_Text  \\\n",
       "0  Accord Metropolitan  Its really nice place to stay especially for b...   \n",
       "1  Accord Metropolitan  It seems that hotel does not check the basic a...   \n",
       "2  Accord Metropolitan  Worst hotel I have ever encountered. I will ne...   \n",
       "3  Accord Metropolitan  Had a good time in this hotel and the staff Ku...   \n",
       "4  Accord Metropolitan  good hotel and staff Veg food good non veg bre...   \n",
       "5  Accord Metropolitan  Great hotel. The staff if welcoming. Helpful. ...   \n",
       "6  Accord Metropolitan  The hotel is mostly clean, but bathrooms need ...   \n",
       "7  Accord Metropolitan  Awesome hotel with all needed amenities and lu...   \n",
       "8  Accord Metropolitan                            Very nice \\nComfortable   \n",
       "9  Accord Metropolitan  The staff of the hotel were polite.  The brick...   \n",
       "\n",
       "  Sentiment                                          toke_text  \\\n",
       "0         3  [Its, really, nice, place, to, stay, especiall...   \n",
       "1         1  [It, seems, that, hotel, does, not, check, the...   \n",
       "2         1  [Worst, hotel, I, have, ever, encountered, I, ...   \n",
       "3         3  [Had, a, good, time, in, this, hotel, and, the...   \n",
       "4         3  [good, hotel, and, staff, Veg, food, good, non...   \n",
       "5         3  [Great, hotel, The, staff, if, welcoming, Help...   \n",
       "6         3  [The, hotel, is, mostly, clean, but, bathrooms...   \n",
       "7         3  [Awesome, hotel, with, all, needed, amenities,...   \n",
       "8         3                          [Very, nice, Comfortable]   \n",
       "9         3  [The, staff, of, the, hotel, were, polite, The...   \n",
       "\n",
       "                                      lematized_text  \\\n",
       "0  [Its, really, nice, place, to, stay, especiall...   \n",
       "1  [It, seems, that, hotel, doe, not, check, the,...   \n",
       "2  [Worst, hotel, I, have, ever, encountered, I, ...   \n",
       "3  [Had, a, good, time, in, this, hotel, and, the...   \n",
       "4  [good, hotel, and, staff, Veg, food, good, non...   \n",
       "5  [Great, hotel, The, staff, if, welcoming, Help...   \n",
       "6  [The, hotel, is, mostly, clean, but, bathroom,...   \n",
       "7  [Awesome, hotel, with, all, needed, amenity, a...   \n",
       "8                          [Very, nice, Comfortable]   \n",
       "9  [The, staff, of, the, hotel, were, polite, The...   \n",
       "\n",
       "                                           stop_text  \\\n",
       "0  [Its, really, nice, place, stay, especially, b...   \n",
       "1  [It, seems, hotel, doe, check, basic, amenity,...   \n",
       "2  [Worst, hotel, I, ever, encountered, I, never,...   \n",
       "3  [Had, good, time, hotel, staff, Kumar, aishwar...   \n",
       "4  [good, hotel, staff, Veg, food, good, non, veg...   \n",
       "5  [Great, hotel, The, staff, welcoming, Helpful,...   \n",
       "6  [The, hotel, mostly, clean, bathroom, need, ca...   \n",
       "7  [Awesome, hotel, needed, amenity, luxury, frie...   \n",
       "8                          [Very, nice, Comfortable]   \n",
       "9  [The, staff, hotel, polite, The, brick, oven, ...   \n",
       "\n",
       "                                            new_text  subjectivity  polarity  \\\n",
       "0  Its really nice place stay especially business...      1.000000  0.300000   \n",
       "1  It seems hotel doe check basic amenity room ha...      0.125000  0.000000   \n",
       "2  Worst hotel I ever encountered I never think s...      0.562500 -0.500000   \n",
       "3  Had good time hotel staff Kumar aishwarya hous...      0.724074  0.538889   \n",
       "4  good hotel staff Veg food good non veg breakfa...      0.600000  0.700000   \n",
       "5     Great hotel The staff welcoming Helpful Always      0.750000  0.800000   \n",
       "6  The hotel mostly clean bathroom need care firs...      0.576190  0.373810   \n",
       "7  Awesome hotel needed amenity luxury friendly s...      0.750000  0.725000   \n",
       "8                              Very nice Comfortable      0.900000  0.590000   \n",
       "9  The staff hotel polite The brick oven chef ext...      0.775000  0.335417   \n",
       "\n",
       "   analysis  \n",
       "0  Positive  \n",
       "1   Neutral  \n",
       "2  Negative  \n",
       "3  Positive  \n",
       "4  Positive  \n",
       "5  Positive  \n",
       "6  Positive  \n",
       "7  Positive  \n",
       "8  Positive  \n",
       "9  Positive  "
      ]
     },
     "execution_count": 18,
     "metadata": {},
     "output_type": "execute_result"
    }
   ],
   "source": [
    "data.head(10)"
   ]
  },
  {
   "cell_type": "code",
   "execution_count": 19,
   "metadata": {},
   "outputs": [
    {
     "data": {
      "text/plain": [
       "84.5"
      ]
     },
     "execution_count": 19,
     "metadata": {},
     "output_type": "execute_result"
    }
   ],
   "source": [
    "# Print the percentage of positive tweets\n",
    "ptweets = data[data['analysis'] == 'Positive']\n",
    "ptweets = ptweets['new_text']\n",
    "\n",
    "round( (ptweets.shape[0] / data.shape[0]) * 100 , 1)"
   ]
  },
  {
   "cell_type": "code",
   "execution_count": 20,
   "metadata": {},
   "outputs": [],
   "source": [
    "# data = data.groupby('Hotel_name')"
   ]
  },
  {
   "cell_type": "code",
   "execution_count": 21,
   "metadata": {},
   "outputs": [],
   "source": [
    "df = data['Hotel_name'].unique()\n"
   ]
  },
  {
   "cell_type": "code",
   "execution_count": 22,
   "metadata": {},
   "outputs": [],
   "source": [
    "df = list(df)"
   ]
  },
  {
   "cell_type": "code",
   "execution_count": 23,
   "metadata": {},
   "outputs": [],
   "source": [
    "data1 = data[['Hotel_name','analysis']]"
   ]
  },
  {
   "cell_type": "code",
   "execution_count": 24,
   "metadata": {},
   "outputs": [
    {
     "data": {
      "text/plain": [
       "(4767, 2)"
      ]
     },
     "execution_count": 24,
     "metadata": {},
     "output_type": "execute_result"
    }
   ],
   "source": [
    "data1.shape"
   ]
  },
  {
   "cell_type": "code",
   "execution_count": 50,
   "metadata": {},
   "outputs": [],
   "source": [
    "for hm in range(len(df)):\n",
    "    preview = data1[data1['analysis'] == 'Positive']\n",
    "    preview = preview['Hotel_name']\n"
   ]
  },
  {
   "cell_type": "code",
   "execution_count": 51,
   "metadata": {},
   "outputs": [
    {
     "data": {
      "text/plain": [
       "0    Accord Metropolitan\n",
       "3    Accord Metropolitan\n",
       "4    Accord Metropolitan\n",
       "5    Accord Metropolitan\n",
       "6    Accord Metropolitan\n",
       "Name: Hotel_name, dtype: object"
      ]
     },
     "execution_count": 51,
     "metadata": {},
     "output_type": "execute_result"
    }
   ],
   "source": [
    "preview.head()"
   ]
  },
  {
   "cell_type": "code",
   "execution_count": 52,
   "metadata": {},
   "outputs": [
    {
     "data": {
      "text/plain": [
       "(4767, 2)"
      ]
     },
     "execution_count": 52,
     "metadata": {},
     "output_type": "execute_result"
    }
   ],
   "source": [
    "data1.shape"
   ]
  },
  {
   "cell_type": "code",
   "execution_count": 53,
   "metadata": {},
   "outputs": [],
   "source": [
    "a=preview.value_counts().sort_index()"
   ]
  },
  {
   "cell_type": "code",
   "execution_count": 54,
   "metadata": {},
   "outputs": [
    {
     "data": {
      "text/plain": [
       "Aadithya                              15\n",
       "Abu sarovar portico ex Abu Palace     13\n",
       "Accord Metropolitan                  112\n",
       "Akash Inn                             14\n",
       "Akshay Inn                            14\n",
       "                                    ... \n",
       "Yashwanth Residency                    1\n",
       "Zama Lodge                             5\n",
       "Zone By The Park Orr Chennai           4\n",
       "ibis Chennai City Centre              10\n",
       "ibis Chennai Sipcot                   11\n",
       "Name: Hotel_name, Length: 254, dtype: int64"
      ]
     },
     "execution_count": 54,
     "metadata": {},
     "output_type": "execute_result"
    }
   ],
   "source": [
    "a"
   ]
  },
  {
   "cell_type": "code",
   "execution_count": 55,
   "metadata": {},
   "outputs": [],
   "source": [
    "b=data1['Hotel_name'].value_counts().sort_index()"
   ]
  },
  {
   "cell_type": "code",
   "execution_count": 56,
   "metadata": {},
   "outputs": [
    {
     "data": {
      "text/plain": [
       "Aadithya                              15\n",
       "Abu sarovar portico ex Abu Palace     18\n",
       "Accord Metropolitan                  124\n",
       "Akash Inn                             14\n",
       "Akshay Inn                            15\n",
       "                                    ... \n",
       "Yashwanth Residency                    1\n",
       "Zama Lodge                             5\n",
       "Zone By The Park Orr Chennai           6\n",
       "ibis Chennai City Centre              10\n",
       "ibis Chennai Sipcot                   15\n",
       "Name: Hotel_name, Length: 256, dtype: int64"
      ]
     },
     "execution_count": 56,
     "metadata": {},
     "output_type": "execute_result"
    }
   ],
   "source": [
    "b"
   ]
  },
  {
   "cell_type": "code",
   "execution_count": 60,
   "metadata": {},
   "outputs": [],
   "source": [
    "c=(a/b)*100"
   ]
  },
  {
   "cell_type": "code",
   "execution_count": 63,
   "metadata": {},
   "outputs": [
    {
     "data": {
      "text/plain": [
       "Aadithya                             100.000000\n",
       "Abu sarovar portico ex Abu Palace     72.222222\n",
       "Accord Metropolitan                   90.322581\n",
       "Akash Inn                            100.000000\n",
       "Akshay Inn                            93.333333\n",
       "                                        ...    \n",
       "Yashwanth Residency                  100.000000\n",
       "Zama Lodge                           100.000000\n",
       "Zone By The Park Orr Chennai          66.666667\n",
       "ibis Chennai City Centre             100.000000\n",
       "ibis Chennai Sipcot                   73.333333\n",
       "Name: Hotel_name, Length: 256, dtype: float64"
      ]
     },
     "execution_count": 63,
     "metadata": {},
     "output_type": "execute_result"
    }
   ],
   "source": [
    "c"
   ]
  },
  {
   "cell_type": "code",
   "execution_count": 77,
   "metadata": {},
   "outputs": [],
   "source": [
    "positive_review=c.where(c >90)"
   ]
  },
  {
   "cell_type": "code",
   "execution_count": 78,
   "metadata": {},
   "outputs": [
    {
     "data": {
      "text/plain": [
       "Aadithya                             100.000000\n",
       "Accord Metropolitan                   90.322581\n",
       "Akash Inn                            100.000000\n",
       "Akshay Inn                            93.333333\n",
       "Aloft Chennai Omr - It Expressway     95.454545\n",
       "                                        ...    \n",
       "Trident Chennai                      100.000000\n",
       "Turyaa Chennai                        91.304348\n",
       "Yashwanth Residency                  100.000000\n",
       "Zama Lodge                           100.000000\n",
       "ibis Chennai City Centre             100.000000\n",
       "Name: Hotel_name, Length: 112, dtype: float64"
      ]
     },
     "execution_count": 78,
     "metadata": {},
     "output_type": "execute_result"
    }
   ],
   "source": [
    "positive_review.dropna()"
   ]
  },
  {
   "cell_type": "code",
   "execution_count": 88,
   "metadata": {},
   "outputs": [
    {
     "data": {
      "text/plain": [
       "'Aadithya'"
      ]
     },
     "execution_count": 88,
     "metadata": {},
     "output_type": "execute_result"
    }
   ],
   "source": [
    "positive_review.index[0]"
   ]
  },
  {
   "cell_type": "code",
   "execution_count": 89,
   "metadata": {},
   "outputs": [
    {
     "data": {
      "text/html": [
       "<div>\n",
       "<style scoped>\n",
       "    .dataframe tbody tr th:only-of-type {\n",
       "        vertical-align: middle;\n",
       "    }\n",
       "\n",
       "    .dataframe tbody tr th {\n",
       "        vertical-align: top;\n",
       "    }\n",
       "\n",
       "    .dataframe thead th {\n",
       "        text-align: right;\n",
       "    }\n",
       "</style>\n",
       "<table border=\"1\" class=\"dataframe\">\n",
       "  <thead>\n",
       "    <tr style=\"text-align: right;\">\n",
       "      <th></th>\n",
       "      <th>Hotel_name</th>\n",
       "      <th>Review_Text</th>\n",
       "      <th>Sentiment</th>\n",
       "      <th>toke_text</th>\n",
       "      <th>lematized_text</th>\n",
       "      <th>stop_text</th>\n",
       "      <th>new_text</th>\n",
       "      <th>subjectivity</th>\n",
       "      <th>polarity</th>\n",
       "      <th>analysis</th>\n",
       "    </tr>\n",
       "  </thead>\n",
       "  <tbody>\n",
       "    <tr>\n",
       "      <td>0</td>\n",
       "      <td>Accord Metropolitan</td>\n",
       "      <td>Its really nice place to stay especially for b...</td>\n",
       "      <td>3</td>\n",
       "      <td>[Its, really, nice, place, to, stay, especiall...</td>\n",
       "      <td>[Its, really, nice, place, to, stay, especiall...</td>\n",
       "      <td>[Its, really, nice, place, stay, especially, b...</td>\n",
       "      <td>Its really nice place stay especially business...</td>\n",
       "      <td>1.000000</td>\n",
       "      <td>0.300000</td>\n",
       "      <td>Positive</td>\n",
       "    </tr>\n",
       "    <tr>\n",
       "      <td>1</td>\n",
       "      <td>Accord Metropolitan</td>\n",
       "      <td>It seems that hotel does not check the basic a...</td>\n",
       "      <td>1</td>\n",
       "      <td>[It, seems, that, hotel, does, not, check, the...</td>\n",
       "      <td>[It, seems, that, hotel, doe, not, check, the,...</td>\n",
       "      <td>[It, seems, hotel, doe, check, basic, amenity,...</td>\n",
       "      <td>It seems hotel doe check basic amenity room ha...</td>\n",
       "      <td>0.125000</td>\n",
       "      <td>0.000000</td>\n",
       "      <td>Neutral</td>\n",
       "    </tr>\n",
       "    <tr>\n",
       "      <td>2</td>\n",
       "      <td>Accord Metropolitan</td>\n",
       "      <td>Worst hotel I have ever encountered. I will ne...</td>\n",
       "      <td>1</td>\n",
       "      <td>[Worst, hotel, I, have, ever, encountered, I, ...</td>\n",
       "      <td>[Worst, hotel, I, have, ever, encountered, I, ...</td>\n",
       "      <td>[Worst, hotel, I, ever, encountered, I, never,...</td>\n",
       "      <td>Worst hotel I ever encountered I never think s...</td>\n",
       "      <td>0.562500</td>\n",
       "      <td>-0.500000</td>\n",
       "      <td>Negative</td>\n",
       "    </tr>\n",
       "    <tr>\n",
       "      <td>3</td>\n",
       "      <td>Accord Metropolitan</td>\n",
       "      <td>Had a good time in this hotel and the staff Ku...</td>\n",
       "      <td>3</td>\n",
       "      <td>[Had, a, good, time, in, this, hotel, and, the...</td>\n",
       "      <td>[Had, a, good, time, in, this, hotel, and, the...</td>\n",
       "      <td>[Had, good, time, hotel, staff, Kumar, aishwar...</td>\n",
       "      <td>Had good time hotel staff Kumar aishwarya hous...</td>\n",
       "      <td>0.724074</td>\n",
       "      <td>0.538889</td>\n",
       "      <td>Positive</td>\n",
       "    </tr>\n",
       "    <tr>\n",
       "      <td>4</td>\n",
       "      <td>Accord Metropolitan</td>\n",
       "      <td>good hotel and staff Veg food good non veg bre...</td>\n",
       "      <td>3</td>\n",
       "      <td>[good, hotel, and, staff, Veg, food, good, non...</td>\n",
       "      <td>[good, hotel, and, staff, Veg, food, good, non...</td>\n",
       "      <td>[good, hotel, staff, Veg, food, good, non, veg...</td>\n",
       "      <td>good hotel staff Veg food good non veg breakfa...</td>\n",
       "      <td>0.600000</td>\n",
       "      <td>0.700000</td>\n",
       "      <td>Positive</td>\n",
       "    </tr>\n",
       "  </tbody>\n",
       "</table>\n",
       "</div>"
      ],
      "text/plain": [
       "            Hotel_name                                        Review_Text  \\\n",
       "0  Accord Metropolitan  Its really nice place to stay especially for b...   \n",
       "1  Accord Metropolitan  It seems that hotel does not check the basic a...   \n",
       "2  Accord Metropolitan  Worst hotel I have ever encountered. I will ne...   \n",
       "3  Accord Metropolitan  Had a good time in this hotel and the staff Ku...   \n",
       "4  Accord Metropolitan  good hotel and staff Veg food good non veg bre...   \n",
       "\n",
       "  Sentiment                                          toke_text  \\\n",
       "0         3  [Its, really, nice, place, to, stay, especiall...   \n",
       "1         1  [It, seems, that, hotel, does, not, check, the...   \n",
       "2         1  [Worst, hotel, I, have, ever, encountered, I, ...   \n",
       "3         3  [Had, a, good, time, in, this, hotel, and, the...   \n",
       "4         3  [good, hotel, and, staff, Veg, food, good, non...   \n",
       "\n",
       "                                      lematized_text  \\\n",
       "0  [Its, really, nice, place, to, stay, especiall...   \n",
       "1  [It, seems, that, hotel, doe, not, check, the,...   \n",
       "2  [Worst, hotel, I, have, ever, encountered, I, ...   \n",
       "3  [Had, a, good, time, in, this, hotel, and, the...   \n",
       "4  [good, hotel, and, staff, Veg, food, good, non...   \n",
       "\n",
       "                                           stop_text  \\\n",
       "0  [Its, really, nice, place, stay, especially, b...   \n",
       "1  [It, seems, hotel, doe, check, basic, amenity,...   \n",
       "2  [Worst, hotel, I, ever, encountered, I, never,...   \n",
       "3  [Had, good, time, hotel, staff, Kumar, aishwar...   \n",
       "4  [good, hotel, staff, Veg, food, good, non, veg...   \n",
       "\n",
       "                                            new_text  subjectivity  polarity  \\\n",
       "0  Its really nice place stay especially business...      1.000000  0.300000   \n",
       "1  It seems hotel doe check basic amenity room ha...      0.125000  0.000000   \n",
       "2  Worst hotel I ever encountered I never think s...      0.562500 -0.500000   \n",
       "3  Had good time hotel staff Kumar aishwarya hous...      0.724074  0.538889   \n",
       "4  good hotel staff Veg food good non veg breakfa...      0.600000  0.700000   \n",
       "\n",
       "   analysis  \n",
       "0  Positive  \n",
       "1   Neutral  \n",
       "2  Negative  \n",
       "3  Positive  \n",
       "4  Positive  "
      ]
     },
     "execution_count": 89,
     "metadata": {},
     "output_type": "execute_result"
    }
   ],
   "source": [
    "data.head()"
   ]
  },
  {
   "cell_type": "code",
   "execution_count": 96,
   "metadata": {},
   "outputs": [],
   "source": []
  },
  {
   "cell_type": "code",
   "execution_count": 97,
   "metadata": {},
   "outputs": [],
   "source": [
    "from sklearn.model_selection import train_test_split\n",
    "\n",
    "x_train, x_test, y_train, y_test = train_test_split(data['new_text'], data['analysis'], test_size = 0.2)"
   ]
  },
  {
   "cell_type": "code",
   "execution_count": 98,
   "metadata": {},
   "outputs": [],
   "source": [
    "from sklearn.preprocessing import LabelEncoder\n",
    "\n",
    "le = LabelEncoder()\n",
    "y_train = le.fit_transform(y_train)\n",
    "y_test = le.fit_transform(y_test)"
   ]
  },
  {
   "cell_type": "code",
   "execution_count": 99,
   "metadata": {},
   "outputs": [],
   "source": [
    "from sklearn.feature_extraction.text import TfidfVectorizer\n",
    "\n",
    "tfidf = TfidfVectorizer()\n",
    "x_train_tfidf = tfidf.fit_transform(x_train)\n",
    "x_test_tfidf = tfidf.transform(x_test)"
   ]
  },
  {
   "cell_type": "code",
   "execution_count": 94,
   "metadata": {},
   "outputs": [
    {
     "data": {
      "text/plain": [
       "<954x5023 sparse matrix of type '<class 'numpy.float64'>'\n",
       "\twith 18357 stored elements in Compressed Sparse Row format>"
      ]
     },
     "execution_count": 94,
     "metadata": {},
     "output_type": "execute_result"
    }
   ],
   "source": [
    "x_test_tfidf"
   ]
  },
  {
   "cell_type": "markdown",
   "metadata": {},
   "source": [
    "Decision Tree"
   ]
  },
  {
   "cell_type": "code",
   "execution_count": 100,
   "metadata": {},
   "outputs": [],
   "source": [
    "from sklearn.tree import DecisionTreeClassifier\n",
    "\n",
    "clf = DecisionTreeClassifier()"
   ]
  },
  {
   "cell_type": "code",
   "execution_count": 101,
   "metadata": {},
   "outputs": [
    {
     "data": {
      "text/plain": [
       "DecisionTreeClassifier(class_weight=None, criterion='gini', max_depth=None,\n",
       "                       max_features=None, max_leaf_nodes=None,\n",
       "                       min_impurity_decrease=0.0, min_impurity_split=None,\n",
       "                       min_samples_leaf=1, min_samples_split=2,\n",
       "                       min_weight_fraction_leaf=0.0, presort=False,\n",
       "                       random_state=None, splitter='best')"
      ]
     },
     "execution_count": 101,
     "metadata": {},
     "output_type": "execute_result"
    }
   ],
   "source": [
    "clf.fit(x_train_tfidf, y_train)"
   ]
  },
  {
   "cell_type": "code",
   "execution_count": 102,
   "metadata": {},
   "outputs": [],
   "source": [
    "y_pred_dt = clf.predict(x_test_tfidf)"
   ]
  },
  {
   "cell_type": "code",
   "execution_count": 103,
   "metadata": {},
   "outputs": [
    {
     "name": "stdout",
     "output_type": "stream",
     "text": [
      "Accuracy Score: 0.9245283018867925\n",
      "Confusion Matrix: [[ 78   2  21]\n",
      " [  5  36   7]\n",
      " [ 17  20 768]]\n"
     ]
    }
   ],
   "source": [
    "from sklearn.metrics import confusion_matrix, accuracy_score\n",
    "\n",
    "y_pred = clf.predict(x_test_tfidf)\n",
    "\n",
    "print('Accuracy Score:', accuracy_score(y_test, y_pred))\n",
    "print('Confusion Matrix:', confusion_matrix(y_test, y_pred))"
   ]
  },
  {
   "cell_type": "markdown",
   "metadata": {},
   "source": [
    "KNN"
   ]
  },
  {
   "cell_type": "code",
   "execution_count": 104,
   "metadata": {},
   "outputs": [
    {
     "data": {
      "text/plain": [
       "KNeighborsClassifier(algorithm='auto', leaf_size=30, metric='minkowski',\n",
       "                     metric_params=None, n_jobs=None, n_neighbors=3, p=2,\n",
       "                     weights='uniform')"
      ]
     },
     "execution_count": 104,
     "metadata": {},
     "output_type": "execute_result"
    }
   ],
   "source": [
    "from sklearn.neighbors import KNeighborsClassifier\n",
    "\n",
    "classifier = KNeighborsClassifier(n_neighbors=3)\n",
    "classifier.fit(x_train_tfidf, y_train)"
   ]
  },
  {
   "cell_type": "code",
   "execution_count": 105,
   "metadata": {},
   "outputs": [],
   "source": [
    "y_pred_knn = classifier.predict(x_test_tfidf)"
   ]
  },
  {
   "cell_type": "code",
   "execution_count": 107,
   "metadata": {},
   "outputs": [
    {
     "name": "stdout",
     "output_type": "stream",
     "text": [
      "Accuracy Score:\n",
      " 0.4371069182389937\n",
      "Confusion Matrix:\n",
      " [[ 29  70   2]\n",
      " [  0  48   0]\n",
      " [  0 465 340]]\n",
      "Classification Report:\n",
      "               precision    recall  f1-score   support\n",
      "\n",
      "           0       1.00      0.29      0.45       101\n",
      "           1       0.08      1.00      0.15        48\n",
      "           2       0.99      0.42      0.59       805\n",
      "\n",
      "    accuracy                           0.44       954\n",
      "   macro avg       0.69      0.57      0.40       954\n",
      "weighted avg       0.95      0.44      0.56       954\n",
      "\n"
     ]
    }
   ],
   "source": [
    "from sklearn.metrics import classification_report, confusion_matrix, accuracy_score\n",
    "\n",
    "print('Accuracy Score:\\n', accuracy_score(y_test, y_pred_knn))\n",
    "print('Confusion Matrix:\\n', confusion_matrix(y_test, y_pred_knn))\n",
    "print('Classification Report:\\n', classification_report(y_test, y_pred_knn))"
   ]
  },
  {
   "cell_type": "markdown",
   "metadata": {},
   "source": [
    "Logistic Regression"
   ]
  },
  {
   "cell_type": "code",
   "execution_count": 108,
   "metadata": {},
   "outputs": [],
   "source": [
    "from sklearn.linear_model import LogisticRegression\n",
    "\n",
    "model = LogisticRegression()"
   ]
  },
  {
   "cell_type": "code",
   "execution_count": 109,
   "metadata": {},
   "outputs": [
    {
     "name": "stderr",
     "output_type": "stream",
     "text": [
      "C:\\Users\\Lenovo\\Anaconda3\\lib\\site-packages\\sklearn\\linear_model\\logistic.py:432: FutureWarning: Default solver will be changed to 'lbfgs' in 0.22. Specify a solver to silence this warning.\n",
      "  FutureWarning)\n",
      "C:\\Users\\Lenovo\\Anaconda3\\lib\\site-packages\\sklearn\\linear_model\\logistic.py:469: FutureWarning: Default multi_class will be changed to 'auto' in 0.22. Specify the multi_class option to silence this warning.\n",
      "  \"this warning.\", FutureWarning)\n"
     ]
    },
    {
     "data": {
      "text/plain": [
       "LogisticRegression(C=1.0, class_weight=None, dual=False, fit_intercept=True,\n",
       "                   intercept_scaling=1, l1_ratio=None, max_iter=100,\n",
       "                   multi_class='warn', n_jobs=None, penalty='l2',\n",
       "                   random_state=None, solver='warn', tol=0.0001, verbose=0,\n",
       "                   warm_start=False)"
      ]
     },
     "execution_count": 109,
     "metadata": {},
     "output_type": "execute_result"
    }
   ],
   "source": [
    "model.fit(x_train_tfidf, y_train)"
   ]
  },
  {
   "cell_type": "code",
   "execution_count": 110,
   "metadata": {},
   "outputs": [
    {
     "name": "stdout",
     "output_type": "stream",
     "text": [
      "Accuracy Score: 0.8930817610062893\n",
      "Confusion Matrix: [[ 49   0  52]\n",
      " [  1   0  47]\n",
      " [  2   0 803]]\n"
     ]
    }
   ],
   "source": [
    "from sklearn.metrics import confusion_matrix, accuracy_score\n",
    "\n",
    "y_pred = model.predict(x_test_tfidf)\n",
    "\n",
    "print('Accuracy Score:', accuracy_score(y_test, y_pred))\n",
    "print('Confusion Matrix:', confusion_matrix(y_test, y_pred))"
   ]
  },
  {
   "cell_type": "markdown",
   "metadata": {},
   "source": [
    "AdaBoost"
   ]
  },
  {
   "cell_type": "code",
   "execution_count": 112,
   "metadata": {},
   "outputs": [
    {
     "name": "stderr",
     "output_type": "stream",
     "text": [
      "C:\\Users\\Lenovo\\Anaconda3\\lib\\site-packages\\sklearn\\linear_model\\logistic.py:432: FutureWarning: Default solver will be changed to 'lbfgs' in 0.22. Specify a solver to silence this warning.\n",
      "  FutureWarning)\n",
      "C:\\Users\\Lenovo\\Anaconda3\\lib\\site-packages\\sklearn\\linear_model\\logistic.py:469: FutureWarning: Default multi_class will be changed to 'auto' in 0.22. Specify the multi_class option to silence this warning.\n",
      "  \"this warning.\", FutureWarning)\n"
     ]
    },
    {
     "data": {
      "text/plain": [
       "LogisticRegression(C=1.0, class_weight=None, dual=False, fit_intercept=True,\n",
       "                   intercept_scaling=1, l1_ratio=None, max_iter=100,\n",
       "                   multi_class='warn', n_jobs=None, penalty='l2',\n",
       "                   random_state=None, solver='warn', tol=0.0001, verbose=0,\n",
       "                   warm_start=False)"
      ]
     },
     "execution_count": 112,
     "metadata": {},
     "output_type": "execute_result"
    }
   ],
   "source": [
    "from sklearn.ensemble import AdaBoostClassifier\n",
    "\n",
    "Model = AdaBoostClassifier()\n",
    "\n",
    "model.fit(x_train_tfidf, y_train)\n"
   ]
  },
  {
   "cell_type": "code",
   "execution_count": 113,
   "metadata": {},
   "outputs": [
    {
     "name": "stdout",
     "output_type": "stream",
     "text": [
      "Accuracy: 0.8930817610062893\n"
     ]
    }
   ],
   "source": [
    "from sklearn import metrics\n",
    "\n",
    "print(\"Accuracy:\",metrics.accuracy_score(y_test,y_pred))"
   ]
  },
  {
   "cell_type": "code",
   "execution_count": null,
   "metadata": {},
   "outputs": [],
   "source": []
  },
  {
   "cell_type": "code",
   "execution_count": null,
   "metadata": {},
   "outputs": [],
   "source": []
  }
 ],
 "metadata": {
  "kernelspec": {
   "display_name": "Python 3",
   "language": "python",
   "name": "python3"
  },
  "language_info": {
   "codemirror_mode": {
    "name": "ipython",
    "version": 3
   },
   "file_extension": ".py",
   "mimetype": "text/x-python",
   "name": "python",
   "nbconvert_exporter": "python",
   "pygments_lexer": "ipython3",
   "version": "3.7.4"
  }
 },
 "nbformat": 4,
 "nbformat_minor": 2
}
