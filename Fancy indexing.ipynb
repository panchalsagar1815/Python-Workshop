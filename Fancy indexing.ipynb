{
 "cells": [
  {
   "cell_type": "code",
   "execution_count": 1,
   "metadata": {},
   "outputs": [
    {
     "name": "stdout",
     "output_type": "stream",
     "text": [
      "[40 15 72 22 43 82 75  7 34 49]\n"
     ]
    }
   ],
   "source": [
    "import numpy as np\n",
    "rand=np.random.RandomState(2)\n",
    "x=rand.randint(100,size=10)\n",
    "print(x)"
   ]
  },
  {
   "cell_type": "code",
   "execution_count": 2,
   "metadata": {},
   "outputs": [
    {
     "data": {
      "text/plain": [
       "[22, 7, 75]"
      ]
     },
     "execution_count": 2,
     "metadata": {},
     "output_type": "execute_result"
    }
   ],
   "source": [
    "[x[3],x[7],x[6]]"
   ]
  },
  {
   "cell_type": "code",
   "execution_count": 4,
   "metadata": {},
   "outputs": [
    {
     "data": {
      "text/plain": [
       "array([22,  7, 72])"
      ]
     },
     "execution_count": 4,
     "metadata": {},
     "output_type": "execute_result"
    }
   ],
   "source": [
    "ind=[3,7,2]\n",
    "x[ind]"
   ]
  },
  {
   "cell_type": "code",
   "execution_count": 19,
   "metadata": {},
   "outputs": [
    {
     "data": {
      "text/plain": [
       "array([[ 0,  1,  2,  3],\n",
       "       [ 4,  5,  6,  7],\n",
       "       [ 8,  9, 10, 11]])"
      ]
     },
     "execution_count": 19,
     "metadata": {},
     "output_type": "execute_result"
    }
   ],
   "source": [
    "a=np.arange(12).reshape((3,4))\n",
    "a"
   ]
  },
  {
   "cell_type": "code",
   "execution_count": 14,
   "metadata": {},
   "outputs": [
    {
     "data": {
      "text/plain": [
       "array([ 2,  5, 11])"
      ]
     },
     "execution_count": 14,
     "metadata": {},
     "output_type": "execute_result"
    }
   ],
   "source": [
    "row=np.array([0,1,2])\n",
    "column=np.array([2,1,3])\n",
    "a[row,column]\n"
   ]
  },
  {
   "cell_type": "code",
   "execution_count": 16,
   "metadata": {},
   "outputs": [
    {
     "data": {
      "text/plain": [
       "array([[ 2,  1,  3],\n",
       "       [ 6,  5,  7],\n",
       "       [10,  9, 11]])"
      ]
     },
     "execution_count": 16,
     "metadata": {},
     "output_type": "execute_result"
    }
   ],
   "source": [
    "a[row[:,np.newaxis],column]"
   ]
  },
  {
   "cell_type": "code",
   "execution_count": 27,
   "metadata": {},
   "outputs": [
    {
     "data": {
      "text/plain": [
       "array([[ 0.4319535 ,  1.24231477],\n",
       "       [ 0.19559482,  0.78307959],\n",
       "       [-1.10709418, -2.64981339],\n",
       "       [-0.2327492 ,  0.26733161],\n",
       "       [ 0.42160135, -0.01357276],\n",
       "       [ 1.3640347 ,  2.08591806],\n",
       "       [-1.74969114, -4.27312062],\n",
       "       [-0.80768743, -1.17298266],\n",
       "       [ 0.62689987,  2.1940522 ],\n",
       "       [ 1.32049325,  0.92812621],\n",
       "       [ 0.61007604,  0.30925131],\n",
       "       [ 0.18090372,  0.80823101],\n",
       "       [-1.9190653 , -5.16966064],\n",
       "       [ 0.00926826,  0.42461649],\n",
       "       [-0.11169518, -0.44113856],\n",
       "       [ 1.36658119,  2.26377484],\n",
       "       [ 0.6132569 ,  0.22516718],\n",
       "       [ 1.0866073 ,  1.26874408],\n",
       "       [-0.46568822, -2.74552094],\n",
       "       [-1.53513181, -4.33433811],\n",
       "       [ 1.42723659,  2.16544675],\n",
       "       [-1.1130077 , -1.57585666],\n",
       "       [ 0.65719042,  1.94545395],\n",
       "       [ 0.23098239,  0.295225  ],\n",
       "       [-0.43246739, -0.2159634 ],\n",
       "       [ 2.62310232,  3.92187235],\n",
       "       [-0.16383336, -0.47224473],\n",
       "       [ 0.02081118, -1.79798431],\n",
       "       [ 0.32078574,  2.44515697],\n",
       "       [ 1.07145196,  2.98009196],\n",
       "       [ 0.88946272,  1.70867427],\n",
       "       [ 0.81900118,  3.26101358],\n",
       "       [ 2.21740986,  4.05644316],\n",
       "       [ 0.39058149,  2.21633198],\n",
       "       [-0.53637891, -0.55969974],\n",
       "       [-0.07401261,  0.07680661],\n",
       "       [-1.04816447, -0.85681401],\n",
       "       [ 0.33400956, -0.78342105],\n",
       "       [-1.09635023, -2.54339347],\n",
       "       [ 1.09060176,  2.44213481],\n",
       "       [ 0.10940894,  2.52274565],\n",
       "       [ 1.08455331,  0.45130836],\n",
       "       [ 0.03742727, -0.80789264],\n",
       "       [-1.24230142, -2.85313866],\n",
       "       [ 1.83485734,  3.88768466],\n",
       "       [ 1.29534897,  2.3069521 ],\n",
       "       [ 1.3634713 ,  1.11741819],\n",
       "       [ 0.15386776, -0.57659377],\n",
       "       [ 0.53784668,  2.11233   ],\n",
       "       [-1.51179871, -4.33071531],\n",
       "       [-0.8872499 , -4.36769674],\n",
       "       [-0.29712269, -1.34734648],\n",
       "       [ 0.44588565,  0.00868721],\n",
       "       [ 0.66992522,  1.27659267],\n",
       "       [ 0.16307864,  0.83904992],\n",
       "       [-1.90666331, -5.28938658],\n",
       "       [ 0.81208005,  0.06711811],\n",
       "       [ 1.79541293,  5.84029361],\n",
       "       [ 1.51348336,  2.84684432],\n",
       "       [-0.36823551,  0.09697086],\n",
       "       [-1.00544408, -0.40738753],\n",
       "       [ 0.86825306,  0.11724708],\n",
       "       [-0.17408994, -0.29099837],\n",
       "       [ 0.88385975,  1.77378004],\n",
       "       [-0.12201884,  1.58284743],\n",
       "       [ 1.0993558 ,  1.1458289 ],\n",
       "       [ 0.43917459, -0.91210767],\n",
       "       [-0.55026016, -0.88792517],\n",
       "       [ 0.99427298,  1.7944424 ],\n",
       "       [-0.06317672,  1.5954041 ],\n",
       "       [ 0.09579027, -1.07174013],\n",
       "       [ 1.18218991,  2.77012346],\n",
       "       [ 0.3063489 , -0.09203542],\n",
       "       [-0.19354986, -0.68086017],\n",
       "       [-1.16225052, -2.33247155],\n",
       "       [ 0.03419971,  0.22937178],\n",
       "       [ 0.47693967,  2.10907443],\n",
       "       [-0.19445801, -0.92081438],\n",
       "       [ 0.09655075, -0.34780985],\n",
       "       [-2.12513053, -5.61906862],\n",
       "       [-0.61881029, -1.09946452],\n",
       "       [ 0.73541291,  1.78156777],\n",
       "       [ 0.20102031,  0.75537747],\n",
       "       [-0.53055548, -0.45000283],\n",
       "       [-0.56763995, -1.81100593],\n",
       "       [ 0.71064668,  1.07724853],\n",
       "       [ 1.4638434 ,  1.64755856],\n",
       "       [-0.52725296, -1.35907422],\n",
       "       [ 0.82957814,  0.20845963],\n",
       "       [ 2.34939722,  2.94925459],\n",
       "       [-0.16097927,  0.33572994],\n",
       "       [-0.51917968, -1.3379534 ],\n",
       "       [ 1.00006246,  2.4046427 ],\n",
       "       [-0.27225954,  0.10660836],\n",
       "       [-0.60568488, -1.75042522],\n",
       "       [-0.23437672,  0.18771924],\n",
       "       [-0.35706246, -1.04679106],\n",
       "       [ 2.25809567,  4.73153938],\n",
       "       [-0.83220644, -1.84695146],\n",
       "       [-0.74850271, -2.18073261]])"
      ]
     },
     "execution_count": 27,
     "metadata": {},
     "output_type": "execute_result"
    }
   ],
   "source": [
    "mean=[0,0]\n",
    "cov=[[1,2],\n",
    "     [2,5]]\n",
    "x=rand.multivariate_normal(mean,cov,100)\n",
    "x"
   ]
  },
  {
   "cell_type": "code",
   "execution_count": 26,
   "metadata": {},
   "outputs": [
    {
     "data": {
      "image/png": "[encoded data removed]",
      "text/plain": [
       "<Figure size 432x288 with 1 Axes>"
      ]
     },
     "metadata": {
      "needs_background": "light"
     },
     "output_type": "display_data"
    }
   ],
   "source": [
    "%matplotlib inline\n",
    "import matplotlib.pyplot as plt\n",
    "plt.scatter(x[:,0],x[:,1]);"
   ]
  },
  {
   "cell_type": "code",
   "execution_count": 32,
   "metadata": {},
   "outputs": [
    {
     "data": {
      "text/plain": [
       "array([[ 2,  3,  6],\n",
       "       [34, 46, 12],\n",
       "       [45, 28, 78]])"
      ]
     },
     "execution_count": 32,
     "metadata": {},
     "output_type": "execute_result"
    }
   ],
   "source": [
    "s=np.array([[2,3,6],[34,46,12],[45,28,78]])\n",
    "s"
   ]
  },
  {
   "cell_type": "code",
   "execution_count": 38,
   "metadata": {},
   "outputs": [],
   "source": [
    "row=np.array([0,0,0])\n",
    "column=np.array([0,1,2])\n",
    "n=s[column,row]"
   ]
  },
  {
   "cell_type": "code",
   "execution_count": 39,
   "metadata": {},
   "outputs": [
    {
     "data": {
      "text/plain": [
       "45"
      ]
     },
     "execution_count": 39,
     "metadata": {},
     "output_type": "execute_result"
    }
   ],
   "source": [
    "np.max(n)"
   ]
  },
  {
   "cell_type": "code",
   "execution_count": 45,
   "metadata": {},
   "outputs": [
    {
     "ename": "TypeError",
     "evalue": "'numpy.ndarray' object is not callable",
     "output_type": "error",
     "traceback": [
      "\u001b[1;31m---------------------------------------------------------------------------\u001b[0m",
      "\u001b[1;31mTypeError\u001b[0m                                 Traceback (most recent call last)",
      "\u001b[1;32m<ipython-input-45-762d84d99de7>\u001b[0m in \u001b[0;36m<module>\u001b[1;34m\u001b[0m\n\u001b[0;32m      2\u001b[0m \u001b[1;32mfor\u001b[0m \u001b[0mi\u001b[0m \u001b[1;32min\u001b[0m \u001b[0mrange\u001b[0m\u001b[1;33m(\u001b[0m\u001b[1;36m2\u001b[0m\u001b[1;33m)\u001b[0m\u001b[1;33m:\u001b[0m\u001b[1;33m\u001b[0m\u001b[1;33m\u001b[0m\u001b[0m\n\u001b[0;32m      3\u001b[0m \u001b[1;33m\u001b[0m\u001b[0m\n\u001b[1;32m----> 4\u001b[1;33m     \u001b[1;32mif\u001b[0m \u001b[0mn\u001b[0m\u001b[1;33m(\u001b[0m\u001b[0mi\u001b[0m\u001b[1;33m)\u001b[0m\u001b[1;33m<\u001b[0m\u001b[1;36m40\u001b[0m\u001b[1;33m:\u001b[0m\u001b[1;33m\u001b[0m\u001b[1;33m\u001b[0m\u001b[0m\n\u001b[0m\u001b[0;32m      5\u001b[0m         \u001b[0mcount\u001b[0m\u001b[1;33m+=\u001b[0m\u001b[1;36m1\u001b[0m\u001b[1;33m\u001b[0m\u001b[1;33m\u001b[0m\u001b[0m\n\u001b[0;32m      6\u001b[0m \u001b[0mprint\u001b[0m\u001b[1;33m(\u001b[0m\u001b[0mcount\u001b[0m\u001b[1;33m)\u001b[0m\u001b[1;33m\u001b[0m\u001b[1;33m\u001b[0m\u001b[0m\n",
      "\u001b[1;31mTypeError\u001b[0m: 'numpy.ndarray' object is not callable"
     ]
    }
   ],
   "source": [
    "count=0\n",
    "for i in range(2):\n",
    "    \n",
    "    if n(i)<40:\n",
    "        count+=1\n",
    "print(count)"
   ]
  },
  {
   "cell_type": "code",
   "execution_count": 51,
   "metadata": {},
   "outputs": [
    {
     "name": "stdout",
     "output_type": "stream",
     "text": [
      "[[7 3 6]\n",
      " [9 5 5]\n",
      " [8 3 4]]\n",
      "2\n",
      "[[3 4 5 6 7 8 9]\n",
      " [2 1 2 1 1 1 1]]\n"
     ]
    }
   ],
   "source": [
    "a=np.random.randint(0,10,(3,3))\n",
    "print(a)\n",
    "unique_elements, counts_elements = np.unique(a, return_counts=True)\n",
    "b=max(counts_elements)\n",
    "print(b)\n",
    "print(np.asarray((unique_elements, counts_elements)))\n"
   ]
  },
  {
   "cell_type": "code",
   "execution_count": 61,
   "metadata": {},
   "outputs": [
    {
     "data": {
      "image/png": "[encoded data removed]",
      "text/plain": [
       "<Figure size 432x288 with 1 Axes>"
      ]
     },
     "metadata": {
      "needs_background": "light"
     },
     "output_type": "display_data"
    }
   ],
   "source": [
    "indices=np.random.choice(x.shape[0],20,replace=False)\n",
    "indices\n",
    "selection=x[indices]\n",
    "selection.shape\n",
    "plt.scatter(x[:,0],x[:,1],alpha=0.5)\n",
    "plt.scatter(selection[:,0],selection[:,1],facecolor='red',s=50);"
   ]
  },
  {
   "cell_type": "code",
   "execution_count": null,
   "metadata": {},
   "outputs": [],
   "source": []
  }
 ],
 "metadata": {
  "kernelspec": {
   "display_name": "Python 3",
   "language": "python",
   "name": "python3"
  },
  "language_info": {
   "codemirror_mode": {
    "name": "ipython",
    "version": 3
   },
   "file_extension": ".py",
   "mimetype": "text/x-python",
   "name": "python",
   "nbconvert_exporter": "python",
   "pygments_lexer": "ipython3",
   "version": "3.7.3"
  }
 },
 "nbformat": 4,
 "nbformat_minor": 2
}
