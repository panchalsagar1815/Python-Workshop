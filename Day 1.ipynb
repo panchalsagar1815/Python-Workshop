{
 "cells": [
  {
   "cell_type": "code",
   "execution_count": 2,
   "metadata": {},
   "outputs": [
    {
     "name": "stdout",
     "output_type": "stream",
     "text": [
      "Hello\n"
     ]
    }
   ],
   "source": [
    "print(\"Hello\")"
   ]
  },
  {
   "cell_type": "code",
   "execution_count": 3,
   "metadata": {},
   "outputs": [
    {
     "name": "stdout",
     "output_type": "stream",
     "text": [
      "2\n"
     ]
    }
   ],
   "source": [
    "print(2)"
   ]
  },
  {
   "cell_type": "code",
   "execution_count": 3,
   "metadata": {},
   "outputs": [
    {
     "ename": "SyntaxError",
     "evalue": "invalid syntax (<ipython-input-3-9cbfc7720e82>, line 6)",
     "output_type": "error",
     "traceback": [
      "\u001b[1;36m  File \u001b[1;32m\"<ipython-input-3-9cbfc7720e82>\"\u001b[1;36m, line \u001b[1;32m6\u001b[0m\n\u001b[1;33m    else(0):\u001b[0m\n\u001b[1;37m        ^\u001b[0m\n\u001b[1;31mSyntaxError\u001b[0m\u001b[1;31m:\u001b[0m invalid syntax\n"
     ]
    }
   ],
   "source": [
    "x=(1,2,3,4,5,6,7)\n",
    "a=int(input('Enter number'))\n",
    "for i in range(len(x)):\n",
    "    if a==x[i]:\n",
    "        print('number found')\n",
    "    else():\n",
    "        print('not found')"
   ]
  },
  {
   "cell_type": "code",
   "execution_count": 2,
   "metadata": {},
   "outputs": [
    {
     "data": {
      "text/plain": [
       "dict_values(['sagar', 'indira', 3])"
      ]
     },
     "execution_count": 2,
     "metadata": {},
     "output_type": "execute_result"
    }
   ],
   "source": [
    "a={0:'sagar',1:'indira',2:3}\n",
    "a.values()\n",
    "a.get(1)\n",
    "b={3:'super'}\n"
   ]
  },
  {
   "cell_type": "code",
   "execution_count": 10,
   "metadata": {},
   "outputs": [
    {
     "name": "stdout",
     "output_type": "stream",
     "text": [
      "Enter marks of the student:20\n",
      "student has aquired B grade\n"
     ]
    }
   ],
   "source": [
    "a=int(input('Enter marks of the student:'))\n",
    "if a<10:\n",
    "    print('student has failed the exam')\n",
    "elif a>=10 and a<20:\n",
    "    print('student has aquired C grade')\n",
    "elif a>=20 and a<=30:\n",
    "    print('student has aquired B grade')\n",
    "else:\n",
    "    print('student has aquired A grade')\n",
    "            "
   ]
  },
  {
   "cell_type": "code",
   "execution_count": 11,
   "metadata": {},
   "outputs": [
    {
     "name": "stdout",
     "output_type": "stream",
     "text": [
      "The count is: 0\n",
      "The count is: 1\n",
      "The count is: 2\n",
      "The count is: 3\n",
      "The count is: 4\n",
      "The count is: 5\n",
      "The count is: 6\n",
      "The count is: 7\n",
      "The count is: 8\n",
      "The count is: 9\n",
      "The count is: 10\n",
      "The count is: 11\n",
      "The count is: 12\n",
      "The count is: 13\n",
      "The count is: 14\n",
      "The count is: 15\n",
      "The count is: 16\n",
      "The count is: 17\n",
      "The count is: 18\n",
      "The count is: 19\n",
      "The count is: 20\n",
      "The count is: 21\n",
      "The count is: 22\n",
      "The count is: 23\n",
      "The count is: 24\n",
      "The count is: 25\n",
      "The count is: 26\n",
      "The count is: 27\n",
      "The count is: 28\n",
      "The count is: 29\n",
      "The count is: 30\n",
      "The count is: 31\n",
      "The count is: 32\n",
      "The count is: 33\n",
      "The count is: 34\n",
      "The count is: 35\n",
      "The count is: 36\n",
      "The count is: 37\n",
      "The count is: 38\n",
      "The count is: 39\n",
      "The count is: 40\n",
      "The count is: 41\n",
      "The count is: 42\n",
      "The count is: 43\n",
      "The count is: 44\n",
      "The count is: 45\n",
      "The count is: 46\n",
      "The count is: 47\n",
      "The count is: 48\n",
      "The count is: 49\n"
     ]
    }
   ],
   "source": [
    "count=0\n",
    "while(count<50):\n",
    "    print('The count is:',count)\n",
    "    count=count+1\n",
    "    "
   ]
  },
  {
   "cell_type": "code",
   "execution_count": 3,
   "metadata": {},
   "outputs": [
    {
     "name": "stdout",
     "output_type": "stream",
     "text": [
      "24 : 75.2\n",
      "32.5 : 90.5\n",
      "4.7 : 40.46\n",
      "40 : 104.0\n"
     ]
    }
   ],
   "source": [
    "def fahrenheit(T_in_celsius):\n",
    "    return(T_in_celsius*9/5)+32\n",
    "for t in (24,32.5,4.7,40):\n",
    "    print(t,\":\",fahrenheit(t))"
   ]
  },
  {
   "cell_type": "code",
   "execution_count": 13,
   "metadata": {},
   "outputs": [
    {
     "name": "stdout",
     "output_type": "stream",
     "text": [
      "0\n",
      "enter the numbers3\n",
      "1\n",
      "enter the numbers4\n",
      "2\n",
      "enter the numbers5\n",
      "3\n",
      "enter the numbers6\n",
      "4\n",
      "enter the numbers7\n",
      "total 3\n",
      "total 7\n",
      "total 12\n",
      "total 18\n",
      "total 25\n"
     ]
    }
   ],
   "source": [
    "a=[]\n",
    "for i in range(0,5,1):\n",
    "    print (i)\n",
    "    x=int(input('enter the numbers'))\n",
    "    a.append(x)\n",
    "def add(a):\n",
    "    c=0\n",
    "    for i in a:\n",
    "        c=c+i\n",
    "        print(\"total\",c)\n",
    "#print(\"total is:\",c)\n",
    "add(a)"
   ]
  },
  {
   "cell_type": "code",
   "execution_count": 15,
   "metadata": {},
   "outputs": [
    {
     "ename": "NameError",
     "evalue": "name 'h' is not defined",
     "output_type": "error",
     "traceback": [
      "\u001b[1;31m---------------------------------------------------------------------------\u001b[0m",
      "\u001b[1;31mNameError\u001b[0m                                 Traceback (most recent call last)",
      "\u001b[1;32m<ipython-input-15-fa1e55774d5a>\u001b[0m in \u001b[0;36m<module>\u001b[1;34m\u001b[0m\n\u001b[0;32m      5\u001b[0m \u001b[0mf\u001b[0m\u001b[1;33m(\u001b[0m\u001b[1;33m)\u001b[0m\u001b[1;33m\u001b[0m\u001b[1;33m\u001b[0m\u001b[0m\n\u001b[0;32m      6\u001b[0m \u001b[1;31m#print(h)\u001b[0m\u001b[1;33m\u001b[0m\u001b[1;33m\u001b[0m\u001b[1;33m\u001b[0m\u001b[0m\n\u001b[1;32m----> 7\u001b[1;33m \u001b[0mprint\u001b[0m\u001b[1;33m(\u001b[0m\u001b[0ms\u001b[0m\u001b[1;33m,\u001b[0m\u001b[0mh\u001b[0m\u001b[1;33m)\u001b[0m\u001b[1;33m\u001b[0m\u001b[1;33m\u001b[0m\u001b[0m\n\u001b[0m",
      "\u001b[1;31mNameError\u001b[0m: name 'h' is not defined"
     ]
    }
   ],
   "source": [
    "def f():\n",
    "    h=\"perl\"\n",
    "    return(h)\n",
    "s=\"pytohn\"\n",
    "f()\n",
    "#print(h)\n",
    "print(s,h)\n"
   ]
  },
  {
   "cell_type": "code",
   "execution_count": 4,
   "metadata": {},
   "outputs": [],
   "source": [
    "#result_str=\"\";\n",
    "for i in range(0,5):\n",
    "    if(i<=0 and i>5):\n",
    "        print(\"*\\n\",i)\n",
    "for i in range(0,5):\n",
    "    if(i>=5 and i<9):\n",
    "        print(\"*\\t\",i)"
   ]
  },
  {
   "cell_type": "code",
   "execution_count": 12,
   "metadata": {},
   "outputs": [
    {
     "name": "stdout",
     "output_type": "stream",
     "text": [
      "<_io.TextIOWrapper name='python_tutorial.txt' mode='r' encoding='cp1252'>\n"
     ]
    },
    {
     "data": {
      "text/plain": [
       "'im from indira collegeim from indira college'"
      ]
     },
     "execution_count": 12,
     "metadata": {},
     "output_type": "execute_result"
    }
   ],
   "source": [
    "fileobject=open('python_tutorial.txt',\"r\")\n",
    "print(fileobject)\n",
    "fileobject.read()\n",
    "#fileobject.write(\"im from indira college\")"
   ]
  },
  {
   "cell_type": "code",
   "execution_count": 13,
   "metadata": {},
   "outputs": [
    {
     "ename": "ZeroDivisionError",
     "evalue": "division by zero",
     "output_type": "error",
     "traceback": [
      "\u001b[1;31m---------------------------------------------------------------------------\u001b[0m",
      "\u001b[1;31mZeroDivisionError\u001b[0m                         Traceback (most recent call last)",
      "\u001b[1;32m<ipython-input-13-599c10b1bf4d>\u001b[0m in \u001b[0;36m<module>\u001b[1;34m\u001b[0m\n\u001b[1;32m----> 1\u001b[1;33m \u001b[0mc\u001b[0m\u001b[1;33m=\u001b[0m\u001b[1;36m3\u001b[0m\u001b[1;33m/\u001b[0m\u001b[1;36m0\u001b[0m\u001b[1;33m\u001b[0m\u001b[1;33m\u001b[0m\u001b[0m\n\u001b[0m",
      "\u001b[1;31mZeroDivisionError\u001b[0m: division by zero"
     ]
    }
   ],
   "source": [
    "c=3/0"
   ]
  },
  {
   "cell_type": "code",
   "execution_count": 15,
   "metadata": {},
   "outputs": [
    {
     "name": "stdout",
     "output_type": "stream",
     "text": [
      "Error found\n"
     ]
    }
   ],
   "source": [
    "a=\"sagar\"\n",
    "try:\n",
    "    b=a+3\n",
    "except:\n",
    "    \n",
    "    print(\"Error found\")"
   ]
  },
  {
   "cell_type": "code",
   "execution_count": 4,
   "metadata": {},
   "outputs": [
    {
     "name": "stdout",
     "output_type": "stream",
     "text": [
      "Enter value of a:4\n",
      "Enter value of b:4\n",
      "a and b are same\n"
     ]
    }
   ],
   "source": [
    "a=int(input('Enter value of a:'))\n",
    "b=int(input('Enter value of b:'))\n",
    "if  a==b:\n",
    "    print('a and b are same')\n",
    "    "
   ]
  },
  {
   "cell_type": "code",
   "execution_count": 6,
   "metadata": {},
   "outputs": [
    {
     "name": "stdout",
     "output_type": "stream",
     "text": [
      "Enter value of a:3\n",
      "Enter value of b:4\n",
      "a and b are not same\n"
     ]
    }
   ],
   "source": [
    "a=int(input('Enter value of a:'))\n",
    "b=int(input('Enter value of b:'))\n",
    "if b==a:\n",
    "    print('a and b are same')\n",
    "    \n",
    "    \n",
    "else:\n",
    "    print(\"a and b are not same\")\n",
    "        "
   ]
  },
  {
   "cell_type": "code",
   "execution_count": 8,
   "metadata": {},
   "outputs": [
    {
     "name": "stdout",
     "output_type": "stream",
     "text": [
      "Enter input31\n",
      "odd\n"
     ]
    }
   ],
   "source": [
    "a=int(input(\"Enter input\"))\n",
    "if a%2==0:\n",
    "    print('even')\n",
    "    \n",
    "else:\n",
    "    print('odd')\n",
    "    \n",
    "    "
   ]
  },
  {
   "cell_type": "code",
   "execution_count": 10,
   "metadata": {},
   "outputs": [
    {
     "name": "stdout",
     "output_type": "stream",
     "text": [
      " *\n",
      " *\n",
      " *\n",
      " *\n",
      " *\n",
      " * * * * *\n",
      "\n"
     ]
    }
   ],
   "source": [
    "result=''\n",
    "for i in range(0,6):\n",
    "    for j in range(0,6):\n",
    "        if(j==1 or(i==5 and j!=0 and j<6)):\n",
    "            result=result+\" *\"\n",
    "        else:\n",
    "            result=result+\"\"\n",
    "    result=result+\"\\n\"\n",
    "print(result)\n",
    "      \n",
    "   \n"
   ]
  },
  {
   "cell_type": "code",
   "execution_count": 27,
   "metadata": {},
   "outputs": [
    {
     "name": "stdout",
     "output_type": "stream",
     "text": [
      "*   *\n",
      " * * \n",
      "  *  \n",
      " * * \n",
      "*   *\n",
      "\n"
     ]
    }
   ],
   "source": [
    "a=int(input(\"enter rows\"))\n",
    "b=int(input(\"enter column\"))\n",
    "s=''\n",
    "for i in range(0,a):\n",
    "    for j in range(0,b):\n",
    "        if(((i==0 and j==0)or(i==0 and j==4))or((i==4 and j==0)or(i==4 and j==4))or(i==2 and j==2)or(i==1 and j==1)or(i==3 and j==3)or(i==3 and j==1)or(i==1 and j==3)):\n",
    "            s =s+\"*\"\n",
    "        else:\n",
    "            s=s+\" \"\n",
    "    s=s+\"\\n\"\n",
    "print(s)\n",
    "             \n"
   ]
  },
  {
   "cell_type": "code",
   "execution_count": 28,
   "metadata": {},
   "outputs": [
    {
     "name": "stdout",
     "output_type": "stream",
     "text": [
      "enter number:4\n",
      "16\n"
     ]
    }
   ],
   "source": [
    "a=int(input(\"enter number:\"))\n",
    "def square(a):\n",
    "    c=a*a\n",
    "    return c\n",
    "ans=square(a)\n",
    "print(ans)"
   ]
  },
  {
   "cell_type": "code",
   "execution_count": 32,
   "metadata": {},
   "outputs": [
    {
     "name": "stdout",
     "output_type": "stream",
     "text": [
      "enter number:16\n",
      "4.0\n"
     ]
    }
   ],
   "source": [
    "import math\n",
    "a=int(input(\"enter number:\"))\n",
    "def squareroot(a):\n",
    "    c=math.sqrt(a)\n",
    "    return c\n",
    "ans=squareroot(a)\n",
    "print(ans)"
   ]
  },
  {
   "cell_type": "code",
   "execution_count": 43,
   "metadata": {},
   "outputs": [
    {
     "name": "stdout",
     "output_type": "stream",
     "text": [
      "Enter number:4\n",
      "16\n",
      "2.0\n"
     ]
    }
   ],
   "source": [
    "import math\n",
    "a=int(input(\"Enter number:\"))\n",
    "class calculator:\n",
    "   \n",
    "    def square(a):\n",
    "        c=a*a\n",
    "        return c\n",
    "    def squareroot(a):\n",
    "        c=math.sqrt(a)\n",
    "        return c\n",
    "#ans=square(a)\n",
    "#ans1=squareroot(a)\n",
    "m=calculator.square(a)\n",
    "n=calculator.squareroot(a)\n",
    "print(m)\n",
    "print(n)"
   ]
  },
  {
   "cell_type": "code",
   "execution_count": 53,
   "metadata": {},
   "outputs": [
    {
     "name": "stdout",
     "output_type": "stream",
     "text": [
      "enter numbers2\n",
      "enter numbers2\n",
      "enter numbers2\n",
      "enter numbers2\n",
      "enter numbers2\n",
      "2\n",
      "2\n",
      "2\n",
      "2\n",
      "2\n",
      "32\n"
     ]
    }
   ],
   "source": [
    "a=[]\n",
    "for i in range(0,5):\n",
    "    b=int(input(\"enter numbers\"))\n",
    "    a.append(b)\n",
    "def mult(a):\n",
    "    c=1\n",
    "    for i in a:\n",
    "        print(i)\n",
    "        c=c*i\n",
    "    return c\n",
    "ans=mult(a)\n",
    "print(ans)\n"
   ]
  },
  {
   "cell_type": "code",
   "execution_count": 3,
   "metadata": {},
   "outputs": [],
   "source": [
    "import numpy as np\n",
    "\n"
   ]
  },
  {
   "cell_type": "code",
   "execution_count": 4,
   "metadata": {},
   "outputs": [
    {
     "data": {
      "text/plain": [
       "'1.16.4'"
      ]
     },
     "execution_count": 4,
     "metadata": {},
     "output_type": "execute_result"
    }
   ],
   "source": [
    "np.__version__"
   ]
  },
  {
   "cell_type": "code",
   "execution_count": 5,
   "metadata": {},
   "outputs": [],
   "source": [
    "np?"
   ]
  },
  {
   "cell_type": "code",
   "execution_count": 17,
   "metadata": {},
   "outputs": [
    {
     "data": {
      "text/plain": [
       "array([1.        , 3.        , 4.        , 5.98398476, 5.        ])"
      ]
     },
     "execution_count": 17,
     "metadata": {},
     "output_type": "execute_result"
    }
   ],
   "source": [
    "#np.array([1,3,5,6,8,9])\n",
    "\n",
    "np.array([1,3,4,5.983984759357,5], dtype='float64')\n",
    "\n"
   ]
  },
  {
   "cell_type": "code",
   "execution_count": 18,
   "metadata": {},
   "outputs": [
    {
     "data": {
      "text/plain": [
       "array([0, 0, 0, 0, 0, 0, 0, 0, 0, 0])"
      ]
     },
     "execution_count": 18,
     "metadata": {},
     "output_type": "execute_result"
    }
   ],
   "source": [
    "np.zeros(10, dtype =int)\n"
   ]
  },
  {
   "cell_type": "code",
   "execution_count": 19,
   "metadata": {},
   "outputs": [
    {
     "data": {
      "text/plain": [
       "array([[1., 1., 1., 1., 1.],\n",
       "       [1., 1., 1., 1., 1.],\n",
       "       [1., 1., 1., 1., 1.]])"
      ]
     },
     "execution_count": 19,
     "metadata": {},
     "output_type": "execute_result"
    }
   ],
   "source": [
    "np.ones((3,5), dtype=float)"
   ]
  },
  {
   "cell_type": "code",
   "execution_count": 20,
   "metadata": {},
   "outputs": [
    {
     "data": {
      "text/plain": [
       "array([[3.14, 3.14, 3.14, 3.14, 3.14],\n",
       "       [3.14, 3.14, 3.14, 3.14, 3.14],\n",
       "       [3.14, 3.14, 3.14, 3.14, 3.14]])"
      ]
     },
     "execution_count": 20,
     "metadata": {},
     "output_type": "execute_result"
    }
   ],
   "source": [
    "np.full((3,5),3.14)"
   ]
  },
  {
   "cell_type": "code",
   "execution_count": 24,
   "metadata": {},
   "outputs": [
    {
     "data": {
      "text/plain": [
       "array([[0, 4, 0],\n",
       "       [0, 0, 4],\n",
       "       [0, 0, 0]])"
      ]
     },
     "execution_count": 24,
     "metadata": {},
     "output_type": "execute_result"
    }
   ],
   "source": [
    "np.diag((4,4), 1)"
   ]
  },
  {
   "cell_type": "code",
   "execution_count": 39,
   "metadata": {},
   "outputs": [
    {
     "data": {
      "text/plain": [
       "array([[[[0.09424961, 0.27636146, 0.22866264],\n",
       "         [0.23626226, 0.43907377, 0.07374991],\n",
       "         [0.3825487 , 0.50414267, 0.24344107]],\n",
       "\n",
       "        [[0.21513428, 0.07598102, 0.02578963],\n",
       "         [0.54664279, 0.80738351, 0.88553123],\n",
       "         [0.66324418, 0.65685783, 0.75052703]],\n",
       "\n",
       "        [[0.73860313, 0.09591052, 0.17731309],\n",
       "         [0.77451752, 0.82801114, 0.38727316],\n",
       "         [0.56282969, 0.93807583, 0.11819938]]],\n",
       "\n",
       "\n",
       "       [[[0.05736   , 0.89337678, 0.08143604],\n",
       "         [0.04726761, 0.16176644, 0.66019587],\n",
       "         [0.44242558, 0.07938656, 0.49077065]],\n",
       "\n",
       "        [[0.36679075, 0.35850992, 0.15320375],\n",
       "         [0.1203279 , 0.99956609, 0.86076337],\n",
       "         [0.63130626, 0.86345781, 0.2427062 ]],\n",
       "\n",
       "        [[0.1116053 , 0.78918828, 0.66948022],\n",
       "         [0.91684028, 0.07556261, 0.2557352 ],\n",
       "         [0.6004389 , 0.98194662, 0.47253985]]],\n",
       "\n",
       "\n",
       "       [[[0.93887508, 0.92478904, 0.74934314],\n",
       "         [0.17330066, 0.5416776 , 0.60843994],\n",
       "         [0.3935808 , 0.14119856, 0.8789062 ]],\n",
       "\n",
       "        [[0.51308334, 0.57588823, 0.74536093],\n",
       "         [0.88214899, 0.5071356 , 0.67288064],\n",
       "         [0.13971303, 0.08130114, 0.83208724]],\n",
       "\n",
       "        [[0.54876494, 0.78304345, 0.50055412],\n",
       "         [0.84661987, 0.74045954, 0.79397545],\n",
       "         [0.37968238, 0.66639895, 0.96967858]]]])"
      ]
     },
     "execution_count": 39,
     "metadata": {},
     "output_type": "execute_result"
    }
   ],
   "source": [
    "np.random.random((3,3,3,3))"
   ]
  },
  {
   "cell_type": "code",
   "execution_count": 28,
   "metadata": {},
   "outputs": [
    {
     "data": {
      "text/plain": [
       "array([ 0,  2,  4,  6,  8, 10, 12, 14])"
      ]
     },
     "execution_count": 28,
     "metadata": {},
     "output_type": "execute_result"
    }
   ],
   "source": [
    "np.arange(0,15,2)"
   ]
  },
  {
   "cell_type": "code",
   "execution_count": 37,
   "metadata": {},
   "outputs": [
    {
     "data": {
      "text/plain": [
       "array([-0.7 , -0.05,  0.6 ])"
      ]
     },
     "execution_count": 37,
     "metadata": {},
     "output_type": "execute_result"
    }
   ],
   "source": [
    "np.linspace(-0.7,0.6,3)"
   ]
  },
  {
   "cell_type": "code",
   "execution_count": 45,
   "metadata": {},
   "outputs": [
    {
     "data": {
      "text/plain": [
       "array([[ 4, 17, 17, 18, 11],\n",
       "       [12,  6, 15,  7, 15],\n",
       "       [ 4, 11, 17,  8, 11],\n",
       "       [10, 10, 16,  8, 12]])"
      ]
     },
     "execution_count": 45,
     "metadata": {},
     "output_type": "execute_result"
    }
   ],
   "source": [
    "np.random.randint(4,20,(4,5))"
   ]
  },
  {
   "cell_type": "code",
   "execution_count": 46,
   "metadata": {},
   "outputs": [
    {
     "data": {
      "text/plain": [
       "array([[ -7.62556887,   6.99827968,   5.63630738],\n",
       "       [  7.98156221, -23.66277607,   9.00420441],\n",
       "       [  0.90864178, -14.24567443,   5.94415881]])"
      ]
     },
     "execution_count": 46,
     "metadata": {},
     "output_type": "execute_result"
    }
   ],
   "source": [
    "np.random.normal(4,12,(3,3))"
   ]
  },
  {
   "cell_type": "code",
   "execution_count": 51,
   "metadata": {},
   "outputs": [
    {
     "data": {
      "text/plain": [
       "array([[1., 0., 0., 0.],\n",
       "       [0., 1., 0., 0.],\n",
       "       [0., 0., 1., 0.],\n",
       "       [0., 0., 0., 1.],\n",
       "       [0., 0., 0., 0.],\n",
       "       [0., 0., 0., 0.],\n",
       "       [0., 0., 0., 0.],\n",
       "       [0., 0., 0., 0.],\n",
       "       [0., 0., 0., 0.]])"
      ]
     },
     "execution_count": 51,
     "metadata": {},
     "output_type": "execute_result"
    }
   ],
   "source": [
    "np.eye(9,4)"
   ]
  },
  {
   "cell_type": "code",
   "execution_count": 60,
   "metadata": {},
   "outputs": [
    {
     "name": "stdout",
     "output_type": "stream",
     "text": [
      "o\n"
     ]
    }
   ],
   "source": [
    "print(max('hello'))"
   ]
  },
  {
   "cell_type": "code",
   "execution_count": 89,
   "metadata": {},
   "outputs": [
    {
     "name": "stdout",
     "output_type": "stream",
     "text": [
      "100.0 85.71428571428571 83.6734693877551 70.40816326530613\n"
     ]
    }
   ],
   "source": [
    "marks={'sagar':[49,49],'taral':[43,41],'pratik':[45,37],'hitesh':[24,45]}\n",
    "avg=(marks['sagar'][0]+marks['sagar'][1])\n",
    "avg1=(marks['taral'][0]+marks['taral'][1])\n",
    "avg2=(marks['pratik'][0]+marks['pratik'][1])\n",
    "avg3=(marks['hitesh'][0]+marks['hitesh'][1])\n",
    "a=(avg,avg1,avg2,avg3)\n",
    "c=max(a)\n",
    "per=(avg/c)*100\n",
    "per1=(avg1/c)*100\n",
    "per2=(avg2/c)*100\n",
    "per3=(avg3/c)*100\n",
    "print(per,per1,per2,per3)\n"
   ]
  },
  {
   "cell_type": "code",
   "execution_count": 94,
   "metadata": {},
   "outputs": [
    {
     "ename": "SyntaxError",
     "evalue": "unexpected EOF while parsing (<ipython-input-94-cee95b13737c>, line 3)",
     "output_type": "error",
     "traceback": [
      "\u001b[1;36m  File \u001b[1;32m\"<ipython-input-94-cee95b13737c>\"\u001b[1;36m, line \u001b[1;32m3\u001b[0m\n\u001b[1;33m    print(list(marks.keys()[i]+ str(perL[i]))\u001b[0m\n\u001b[1;37m                                              ^\u001b[0m\n\u001b[1;31mSyntaxError\u001b[0m\u001b[1;31m:\u001b[0m unexpected EOF while parsing\n"
     ]
    }
   ],
   "source": [
    "perL = [per,per1,per2,per3]\n",
    "for i in range(4):\n",
    "    print(list(marks.keys()[i]+ str(perL[i])) "
   ]
  },
  {
   "cell_type": "code",
   "execution_count": 95,
   "metadata": {},
   "outputs": [
    {
     "data": {
      "text/plain": [
       "[40, 20, 30, 60, 40, 50, 80, 60, 70]"
      ]
     },
     "execution_count": 95,
     "metadata": {},
     "output_type": "execute_result"
    }
   ],
   "source": [
    "[x+y for x in [10,30,50] for y in[30,10,20]]"
   ]
  },
  {
   "cell_type": "code",
   "execution_count": null,
   "metadata": {},
   "outputs": [],
   "source": []
  }
 ],
 "metadata": {
  "kernelspec": {
   "display_name": "Python 3",
   "language": "python",
   "name": "python3"
  },
  "language_info": {
   "codemirror_mode": {
    "name": "ipython",
    "version": 3
   },
   "file_extension": ".py",
   "mimetype": "text/x-python",
   "name": "python",
   "nbconvert_exporter": "python",
   "pygments_lexer": "ipython3",
   "version": "3.7.3"
  }
 },
 "nbformat": 4,
 "nbformat_minor": 2
}
